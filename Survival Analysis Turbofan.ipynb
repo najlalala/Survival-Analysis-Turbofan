{
 "cells": [
  {
   "cell_type": "markdown",
   "id": "dffd36ab",
   "metadata": {
    "papermill": {
     "duration": 0.015807,
     "end_time": "2022-07-27T09:50:36.454833",
     "exception": false,
     "start_time": "2022-07-27T09:50:36.439026",
     "status": "completed"
    },
    "tags": []
   },
   "source": [
    "# Introduction"
   ]
  },
  {
   "cell_type": "markdown",
   "id": "0f5c070d",
   "metadata": {
    "papermill": {
     "duration": 0.014259,
     "end_time": "2022-07-27T09:50:36.483696",
     "exception": false,
     "start_time": "2022-07-27T09:50:36.469437",
     "status": "completed"
    },
    "tags": []
   },
   "source": [
    "**Survival Analysis** merupakan salah satu metode statistika untuk melakukan analisis lama waktu yang diperlukan hingga terjadinya suatu kejadian. Survival Analysis sering disebut juga sebagai **time-to-event analysis**. Melalui metode survival analysis ini, kita dapat melakukan perencanaan dengan baik atau mengambil langkah antisipasi terhadap suatu kejadian yang tidak diinginkan. Survival analysis pertama kali dikembangkan di bidang kedokteran untuk melihat pengaruh suatu treatment medis terhadap kesintasan pasien hingga meninggal dunia. Selain penerapan di bidang kedokteran, metode ini dapat diaplikasikan pada beberapa bidang atau industri berikut:\n",
    "\n",
    "1. **Manufacturing** : Memprediksi durasi mesin tetap berjalan hingga rusak\n",
    "2. **Marketing** : Memprediksi durasi berlangganan seorang konsumen hingga berhenti berlangganan\n",
    "3. **Human Resources** : Memprediksi durasi seorang karyawan tetap bekerja hingga resign"
   ]
  },
  {
   "cell_type": "markdown",
   "id": "c21771b6",
   "metadata": {
    "papermill": {
     "duration": 0.016741,
     "end_time": "2022-07-27T09:50:36.515400",
     "exception": false,
     "start_time": "2022-07-27T09:50:36.498659",
     "status": "completed"
    },
    "tags": []
   },
   "source": [
    "## Survival Analysis vs Regression"
   ]
  },
  {
   "cell_type": "markdown",
   "id": "27227b77",
   "metadata": {
    "papermill": {
     "duration": 0.014251,
     "end_time": "2022-07-27T09:50:36.544225",
     "exception": false,
     "start_time": "2022-07-27T09:50:36.529974",
     "status": "completed"
    },
    "tags": []
   },
   "source": [
    "Sejauh ini kita telah ketahui bahwa survival analysis dapat digunakan untuk memprediksi lama waktu hingga terjadinya suatu kejadian. Lalu, mengapa kita tidak menggunakan model regresi biasa yang dapat digunakan untuk memprediksi suatu nilai numerik?\n",
    "\n",
    "Untuk menjawab hal tersebut, kita perlu memahami konsep **censored observation** yaitu observasi yang belum diketahui secara pasti apakah kapan observasi tersebut mengalami kejadian. Tipe-tipe *censored observation*:\n",
    "\n",
    "1. **Right censored** : Observasi yang hingga batas akhir pengamatan tidak mengalami kejadian. Contoh: Seorang dokter mengamati kejadian kematian pada pasiennya yang terkena penyakit diabetes selama 12 bulan sejak didiagnosis penyakit tersebut. Jika terdapat pasien yang tidak meninggal selama 12 bulan tersebut maka observasi tersebut disebut *right censored*\n",
    "2. **Left censored** : Observasi yang sudah mengalami kejadian sebelum waktu pengamatan dimulai. Contoh: Seseorang sudah terkena penyakit diabetes sebelum dokter mengamati pasien tersebut lebih lanjut.\n",
    "3. **Interval censored** : Observasi yang tidak diketahui secara pasti kapan mengalami kejadian. Contoh: Seorang teknisi mesin mengamati unit-unit mesin hingga mesin tersebut rusak selama 3 bulan sekali. Misalkan terdapat mesin yang mati saat diamati pada bulan ke-9. Kita tidak ketahui secara pasti kapan mesin tersebut rusak namun yang kita ketahui adalah mesin tersebut rusak diantara bulan ke-6 dan ke-9.\n",
    "\n",
    "Adanya *censored observation* tersebut yang membuat kita tidak dapat menggunakan model regresi biasa. Pada metode survival analysis ini, observasi *right censored* yang akan kita gunakan karena tipe observasi tersebut sering muncul."
   ]
  },
  {
   "cell_type": "markdown",
   "id": "7c968906",
   "metadata": {
    "papermill": {
     "duration": 0.014255,
     "end_time": "2022-07-27T09:50:36.573294",
     "exception": false,
     "start_time": "2022-07-27T09:50:36.559039",
     "status": "completed"
    },
    "tags": []
   },
   "source": [
    "## Konsep Matematika"
   ]
  },
  {
   "cell_type": "markdown",
   "id": "dcbedb63",
   "metadata": {
    "papermill": {
     "duration": 0.014135,
     "end_time": "2022-07-27T09:50:36.602281",
     "exception": false,
     "start_time": "2022-07-27T09:50:36.588146",
     "status": "completed"
    },
    "tags": []
   },
   "source": [
    "Misalkan $T$ adalah peubah acak yang menyatakan waktu hingga terjadinya suatu kejadian. Maka\n",
    "\n",
    "1. **Fungsi Kepadatan Peluang (*Probability Density Function*, PDF)** $f(t) = P(T = t)$: peluang suatu kejadian terjadi saat waktu $t$\n",
    "2. **Fungsi Distribusi Kumulatif (*Cumulative Distribution Function*, CDF)** $F(t) = P(T <= t)$: peluang suatu kejadian terjadi sebelum waktu $t$. Secara matematis, CDF dapat didefinisikan sebagai berikut:\n",
    "$$\n",
    "F(t) = \\int_{0}^{t}{f(s)} ds\n",
    "$$\n",
    "3. **Fungsi Distribusi Survival (*Survival Distribution Function*, SDF)** $S(t) = P(T>t)$: peluang suatu kejadian terjadi setelah waktu $t$. Secara matematis, SDF dapat didefinisikan sebagai berikut:\n",
    "$$\n",
    "S(t) = 1 - F(t)\n",
    "$$\n",
    "4. **Fungsi Hazard (*Hazard Rate Function/Force of Mortality*)** $h(t)$ : peluang bersyarat terjadinya suatu kejadian saat waktu $t$ diketahui subjek yang diamati belum mengalami kejadian saat waktu $t$. Secara matematis, fungsi hazard dapat diperoleh sebagai berikut:\n",
    "$$\n",
    "h(t) = - \\frac{d}{dt} ln(S(t))\n",
    "$$\n",
    "\n",
    "Hubungan antara $f(t), F(t), S(t), h(t)$ dapat dilihat pada diagram berikut\n",
    "\n",
    "**Insert diagram here**"
   ]
  },
  {
   "cell_type": "markdown",
   "id": "302694d5",
   "metadata": {
    "papermill": {
     "duration": 0.014115,
     "end_time": "2022-07-27T09:50:36.630852",
     "exception": false,
     "start_time": "2022-07-27T09:50:36.616737",
     "status": "completed"
    },
    "tags": []
   },
   "source": [
    "# Import Library"
   ]
  },
  {
   "cell_type": "code",
   "execution_count": 1,
   "id": "5f709c7c",
   "metadata": {
    "execution": {
     "iopub.execute_input": "2022-07-27T09:50:36.662546Z",
     "iopub.status.busy": "2022-07-27T09:50:36.661853Z",
     "iopub.status.idle": "2022-07-27T09:50:51.523003Z",
     "shell.execute_reply": "2022-07-27T09:50:51.521224Z"
    },
    "papermill": {
     "duration": 14.880448,
     "end_time": "2022-07-27T09:50:51.526069",
     "exception": false,
     "start_time": "2022-07-27T09:50:36.645621",
     "status": "completed"
    },
    "tags": []
   },
   "outputs": [],
   "source": [
    "# install sksurv package\n",
    "# ! pip install scikit-survival"
   ]
  },
  {
   "cell_type": "code",
   "execution_count": 2,
   "id": "6077ff5e",
   "metadata": {
    "execution": {
     "iopub.execute_input": "2022-07-27T09:50:51.562926Z",
     "iopub.status.busy": "2022-07-27T09:50:51.562184Z",
     "iopub.status.idle": "2022-07-27T09:50:52.853172Z",
     "shell.execute_reply": "2022-07-27T09:50:52.851955Z"
    },
    "papermill": {
     "duration": 1.311888,
     "end_time": "2022-07-27T09:50:52.855953",
     "exception": false,
     "start_time": "2022-07-27T09:50:51.544065",
     "status": "completed"
    },
    "tags": []
   },
   "outputs": [],
   "source": [
    "import pandas as pd\n",
    "import numpy as np\n",
    "import matplotlib.pyplot as plt\n",
    "import seaborn as sns\n",
    "import os\n",
    "sns.set(rc = {'figure.figsize':(16,9)})"
   ]
  },
  {
   "cell_type": "markdown",
   "id": "f2e858a4",
   "metadata": {
    "papermill": {
     "duration": 0.01559,
     "end_time": "2022-07-27T09:50:52.887796",
     "exception": false,
     "start_time": "2022-07-27T09:50:52.872206",
     "status": "completed"
    },
    "tags": []
   },
   "source": [
    "# Import Data and Preprocessing"
   ]
  },
  {
   "cell_type": "markdown",
   "id": "fa461ac9",
   "metadata": {
    "papermill": {
     "duration": 0.015769,
     "end_time": "2022-07-27T09:50:52.919606",
     "exception": false,
     "start_time": "2022-07-27T09:50:52.903837",
     "status": "completed"
    },
    "tags": []
   },
   "source": [
    "Kita akan menggunakan [dataset mesin NASA](https://www.kaggle.com/datasets/behrad3d/nasa-cmaps) yang pada setiap barisnya berisi banyak siklus yang telah dilakukan suatu mesin. Pada setiap siklus tersebut dilakukan pengaturan terhadap tiga jenis pengaturan operasional kemudian dicatat berdasarkan 22 pengukuran yang berbeda."
   ]
  },
  {
   "cell_type": "code",
   "execution_count": 3,
   "id": "b3ee82f3",
   "metadata": {
    "execution": {
     "iopub.execute_input": "2022-07-27T09:50:52.953726Z",
     "iopub.status.busy": "2022-07-27T09:50:52.953289Z",
     "iopub.status.idle": "2022-07-27T09:50:52.959339Z",
     "shell.execute_reply": "2022-07-27T09:50:52.958153Z"
    },
    "papermill": {
     "duration": 0.025855,
     "end_time": "2022-07-27T09:50:52.961589",
     "exception": false,
     "start_time": "2022-07-27T09:50:52.935734",
     "status": "completed"
    },
    "tags": []
   },
   "outputs": [],
   "source": [
    "# Define columns name\n",
    "column1 = [\"machine_id\", \"cycle\", \"operational_setting_1\", \"operational_setting_2\", \"operational_setting_3\"]\n",
    "column2 = [f'sensor_{i:02}' for i in range(1,22)]\n",
    "columns = column1 + column2"
   ]
  },
  {
   "cell_type": "code",
   "execution_count": 4,
   "id": "b905bbc1",
   "metadata": {
    "execution": {
     "iopub.execute_input": "2022-07-27T09:50:52.996618Z",
     "iopub.status.busy": "2022-07-27T09:50:52.995722Z",
     "iopub.status.idle": "2022-07-27T09:50:53.461413Z",
     "shell.execute_reply": "2022-07-27T09:50:53.460094Z"
    },
    "papermill": {
     "duration": 0.485575,
     "end_time": "2022-07-27T09:50:53.463888",
     "exception": false,
     "start_time": "2022-07-27T09:50:52.978313",
     "status": "completed"
    },
    "tags": []
   },
   "outputs": [
    {
     "name": "stderr",
     "output_type": "stream",
     "text": [
      "<>:2: SyntaxWarning: invalid escape sequence '\\s'\n",
      "<>:2: SyntaxWarning: invalid escape sequence '\\s'\n",
      "C:\\Users\\ASUS\\AppData\\Local\\Temp\\ipykernel_49332\\867821110.py:2: SyntaxWarning: invalid escape sequence '\\s'\n",
      "  turbofan_df = pd.read_csv(\"./CMaps/train_FD002.txt\", header = None, sep = \"\\s+\", names = columns)\n"
     ]
    },
    {
     "data": {
      "text/html": [
       "<div>\n",
       "<style scoped>\n",
       "    .dataframe tbody tr th:only-of-type {\n",
       "        vertical-align: middle;\n",
       "    }\n",
       "\n",
       "    .dataframe tbody tr th {\n",
       "        vertical-align: top;\n",
       "    }\n",
       "\n",
       "    .dataframe thead th {\n",
       "        text-align: right;\n",
       "    }\n",
       "</style>\n",
       "<table border=\"1\" class=\"dataframe\">\n",
       "  <thead>\n",
       "    <tr style=\"text-align: right;\">\n",
       "      <th></th>\n",
       "      <th>machine_id</th>\n",
       "      <th>cycle</th>\n",
       "      <th>operational_setting_1</th>\n",
       "      <th>operational_setting_2</th>\n",
       "      <th>operational_setting_3</th>\n",
       "      <th>sensor_01</th>\n",
       "      <th>sensor_02</th>\n",
       "      <th>sensor_03</th>\n",
       "      <th>sensor_04</th>\n",
       "      <th>sensor_05</th>\n",
       "      <th>...</th>\n",
       "      <th>sensor_12</th>\n",
       "      <th>sensor_13</th>\n",
       "      <th>sensor_14</th>\n",
       "      <th>sensor_15</th>\n",
       "      <th>sensor_16</th>\n",
       "      <th>sensor_17</th>\n",
       "      <th>sensor_18</th>\n",
       "      <th>sensor_19</th>\n",
       "      <th>sensor_20</th>\n",
       "      <th>sensor_21</th>\n",
       "    </tr>\n",
       "  </thead>\n",
       "  <tbody>\n",
       "    <tr>\n",
       "      <th>0</th>\n",
       "      <td>1</td>\n",
       "      <td>1</td>\n",
       "      <td>34.9983</td>\n",
       "      <td>0.8400</td>\n",
       "      <td>100.0</td>\n",
       "      <td>449.44</td>\n",
       "      <td>555.32</td>\n",
       "      <td>1358.61</td>\n",
       "      <td>1137.23</td>\n",
       "      <td>5.48</td>\n",
       "      <td>...</td>\n",
       "      <td>183.06</td>\n",
       "      <td>2387.72</td>\n",
       "      <td>8048.56</td>\n",
       "      <td>9.3461</td>\n",
       "      <td>0.02</td>\n",
       "      <td>334</td>\n",
       "      <td>2223</td>\n",
       "      <td>100.00</td>\n",
       "      <td>14.73</td>\n",
       "      <td>8.8071</td>\n",
       "    </tr>\n",
       "    <tr>\n",
       "      <th>1</th>\n",
       "      <td>1</td>\n",
       "      <td>2</td>\n",
       "      <td>41.9982</td>\n",
       "      <td>0.8408</td>\n",
       "      <td>100.0</td>\n",
       "      <td>445.00</td>\n",
       "      <td>549.90</td>\n",
       "      <td>1353.22</td>\n",
       "      <td>1125.78</td>\n",
       "      <td>3.91</td>\n",
       "      <td>...</td>\n",
       "      <td>130.42</td>\n",
       "      <td>2387.66</td>\n",
       "      <td>8072.30</td>\n",
       "      <td>9.3774</td>\n",
       "      <td>0.02</td>\n",
       "      <td>330</td>\n",
       "      <td>2212</td>\n",
       "      <td>100.00</td>\n",
       "      <td>10.41</td>\n",
       "      <td>6.2665</td>\n",
       "    </tr>\n",
       "    <tr>\n",
       "      <th>2</th>\n",
       "      <td>1</td>\n",
       "      <td>3</td>\n",
       "      <td>24.9988</td>\n",
       "      <td>0.6218</td>\n",
       "      <td>60.0</td>\n",
       "      <td>462.54</td>\n",
       "      <td>537.31</td>\n",
       "      <td>1256.76</td>\n",
       "      <td>1047.45</td>\n",
       "      <td>7.05</td>\n",
       "      <td>...</td>\n",
       "      <td>164.22</td>\n",
       "      <td>2028.03</td>\n",
       "      <td>7864.87</td>\n",
       "      <td>10.8941</td>\n",
       "      <td>0.02</td>\n",
       "      <td>309</td>\n",
       "      <td>1915</td>\n",
       "      <td>84.93</td>\n",
       "      <td>14.08</td>\n",
       "      <td>8.6723</td>\n",
       "    </tr>\n",
       "    <tr>\n",
       "      <th>3</th>\n",
       "      <td>1</td>\n",
       "      <td>4</td>\n",
       "      <td>42.0077</td>\n",
       "      <td>0.8416</td>\n",
       "      <td>100.0</td>\n",
       "      <td>445.00</td>\n",
       "      <td>549.51</td>\n",
       "      <td>1354.03</td>\n",
       "      <td>1126.38</td>\n",
       "      <td>3.91</td>\n",
       "      <td>...</td>\n",
       "      <td>130.72</td>\n",
       "      <td>2387.61</td>\n",
       "      <td>8068.66</td>\n",
       "      <td>9.3528</td>\n",
       "      <td>0.02</td>\n",
       "      <td>329</td>\n",
       "      <td>2212</td>\n",
       "      <td>100.00</td>\n",
       "      <td>10.59</td>\n",
       "      <td>6.4701</td>\n",
       "    </tr>\n",
       "    <tr>\n",
       "      <th>4</th>\n",
       "      <td>1</td>\n",
       "      <td>5</td>\n",
       "      <td>25.0005</td>\n",
       "      <td>0.6203</td>\n",
       "      <td>60.0</td>\n",
       "      <td>462.54</td>\n",
       "      <td>537.07</td>\n",
       "      <td>1257.71</td>\n",
       "      <td>1047.93</td>\n",
       "      <td>7.05</td>\n",
       "      <td>...</td>\n",
       "      <td>164.31</td>\n",
       "      <td>2028.00</td>\n",
       "      <td>7861.23</td>\n",
       "      <td>10.8963</td>\n",
       "      <td>0.02</td>\n",
       "      <td>309</td>\n",
       "      <td>1915</td>\n",
       "      <td>84.93</td>\n",
       "      <td>14.13</td>\n",
       "      <td>8.5286</td>\n",
       "    </tr>\n",
       "  </tbody>\n",
       "</table>\n",
       "<p>5 rows × 26 columns</p>\n",
       "</div>"
      ],
      "text/plain": [
       "   machine_id  cycle  operational_setting_1  operational_setting_2  \\\n",
       "0           1      1                34.9983                 0.8400   \n",
       "1           1      2                41.9982                 0.8408   \n",
       "2           1      3                24.9988                 0.6218   \n",
       "3           1      4                42.0077                 0.8416   \n",
       "4           1      5                25.0005                 0.6203   \n",
       "\n",
       "   operational_setting_3  sensor_01  sensor_02  sensor_03  sensor_04  \\\n",
       "0                  100.0     449.44     555.32    1358.61    1137.23   \n",
       "1                  100.0     445.00     549.90    1353.22    1125.78   \n",
       "2                   60.0     462.54     537.31    1256.76    1047.45   \n",
       "3                  100.0     445.00     549.51    1354.03    1126.38   \n",
       "4                   60.0     462.54     537.07    1257.71    1047.93   \n",
       "\n",
       "   sensor_05  ...  sensor_12  sensor_13  sensor_14  sensor_15  sensor_16  \\\n",
       "0       5.48  ...     183.06    2387.72    8048.56     9.3461       0.02   \n",
       "1       3.91  ...     130.42    2387.66    8072.30     9.3774       0.02   \n",
       "2       7.05  ...     164.22    2028.03    7864.87    10.8941       0.02   \n",
       "3       3.91  ...     130.72    2387.61    8068.66     9.3528       0.02   \n",
       "4       7.05  ...     164.31    2028.00    7861.23    10.8963       0.02   \n",
       "\n",
       "   sensor_17  sensor_18  sensor_19  sensor_20  sensor_21  \n",
       "0        334       2223     100.00      14.73     8.8071  \n",
       "1        330       2212     100.00      10.41     6.2665  \n",
       "2        309       1915      84.93      14.08     8.6723  \n",
       "3        329       2212     100.00      10.59     6.4701  \n",
       "4        309       1915      84.93      14.13     8.5286  \n",
       "\n",
       "[5 rows x 26 columns]"
      ]
     },
     "execution_count": 4,
     "metadata": {},
     "output_type": "execute_result"
    }
   ],
   "source": [
    "# Read data\n",
    "turbofan_df = pd.read_csv(\"./CMaps/train_FD002.txt\", header = None, sep = \"\\s+\", names = columns)\n",
    "turbofan_df.head()"
   ]
  },
  {
   "cell_type": "markdown",
   "id": "b918cd3f",
   "metadata": {
    "papermill": {
     "duration": 0.016794,
     "end_time": "2022-07-27T09:50:53.497938",
     "exception": false,
     "start_time": "2022-07-27T09:50:53.481144",
     "status": "completed"
    },
    "tags": []
   },
   "source": [
    "## Create Censored Data"
   ]
  },
  {
   "cell_type": "markdown",
   "id": "045fcf6b",
   "metadata": {
    "papermill": {
     "duration": 0.016111,
     "end_time": "2022-07-27T09:50:53.530497",
     "exception": false,
     "start_time": "2022-07-27T09:50:53.514386",
     "status": "completed"
    },
    "tags": []
   },
   "source": [
    "Jika kita lihat pada data di atas, data yang kita miliki bukanlah data yang memiliki observasi *right censored*. Untuk mendapatkan observasi tersebut, kita lakukan tahapan berikut:\n",
    "\n",
    "1. Memilih siklus maksimum hingga mesin rusak pada setiap mesin\n",
    "2. Mengasumsikan batas akhir waktu pengamatan"
   ]
  },
  {
   "cell_type": "code",
   "execution_count": 5,
   "id": "9ab99b8b",
   "metadata": {},
   "outputs": [
    {
     "data": {
      "text/html": [
       "<div>\n",
       "<style scoped>\n",
       "    .dataframe tbody tr th:only-of-type {\n",
       "        vertical-align: middle;\n",
       "    }\n",
       "\n",
       "    .dataframe tbody tr th {\n",
       "        vertical-align: top;\n",
       "    }\n",
       "\n",
       "    .dataframe thead th {\n",
       "        text-align: right;\n",
       "    }\n",
       "</style>\n",
       "<table border=\"1\" class=\"dataframe\">\n",
       "  <thead>\n",
       "    <tr style=\"text-align: right;\">\n",
       "      <th></th>\n",
       "      <th>machine_id</th>\n",
       "      <th>cycle</th>\n",
       "      <th>operational_setting_1</th>\n",
       "      <th>operational_setting_2</th>\n",
       "      <th>operational_setting_3</th>\n",
       "      <th>sensor_01</th>\n",
       "      <th>sensor_02</th>\n",
       "      <th>sensor_03</th>\n",
       "      <th>sensor_04</th>\n",
       "      <th>sensor_05</th>\n",
       "      <th>...</th>\n",
       "      <th>sensor_13</th>\n",
       "      <th>sensor_14</th>\n",
       "      <th>sensor_15</th>\n",
       "      <th>sensor_16</th>\n",
       "      <th>sensor_17</th>\n",
       "      <th>sensor_18</th>\n",
       "      <th>sensor_19</th>\n",
       "      <th>sensor_20</th>\n",
       "      <th>sensor_21</th>\n",
       "      <th>max_cycle</th>\n",
       "    </tr>\n",
       "  </thead>\n",
       "  <tbody>\n",
       "    <tr>\n",
       "      <th>0</th>\n",
       "      <td>1</td>\n",
       "      <td>1</td>\n",
       "      <td>34.9983</td>\n",
       "      <td>0.8400</td>\n",
       "      <td>100.0</td>\n",
       "      <td>449.44</td>\n",
       "      <td>555.32</td>\n",
       "      <td>1358.61</td>\n",
       "      <td>1137.23</td>\n",
       "      <td>5.48</td>\n",
       "      <td>...</td>\n",
       "      <td>2387.72</td>\n",
       "      <td>8048.56</td>\n",
       "      <td>9.3461</td>\n",
       "      <td>0.02</td>\n",
       "      <td>334</td>\n",
       "      <td>2223</td>\n",
       "      <td>100.00</td>\n",
       "      <td>14.73</td>\n",
       "      <td>8.8071</td>\n",
       "      <td>149</td>\n",
       "    </tr>\n",
       "    <tr>\n",
       "      <th>1</th>\n",
       "      <td>1</td>\n",
       "      <td>2</td>\n",
       "      <td>41.9982</td>\n",
       "      <td>0.8408</td>\n",
       "      <td>100.0</td>\n",
       "      <td>445.00</td>\n",
       "      <td>549.90</td>\n",
       "      <td>1353.22</td>\n",
       "      <td>1125.78</td>\n",
       "      <td>3.91</td>\n",
       "      <td>...</td>\n",
       "      <td>2387.66</td>\n",
       "      <td>8072.30</td>\n",
       "      <td>9.3774</td>\n",
       "      <td>0.02</td>\n",
       "      <td>330</td>\n",
       "      <td>2212</td>\n",
       "      <td>100.00</td>\n",
       "      <td>10.41</td>\n",
       "      <td>6.2665</td>\n",
       "      <td>149</td>\n",
       "    </tr>\n",
       "    <tr>\n",
       "      <th>2</th>\n",
       "      <td>1</td>\n",
       "      <td>3</td>\n",
       "      <td>24.9988</td>\n",
       "      <td>0.6218</td>\n",
       "      <td>60.0</td>\n",
       "      <td>462.54</td>\n",
       "      <td>537.31</td>\n",
       "      <td>1256.76</td>\n",
       "      <td>1047.45</td>\n",
       "      <td>7.05</td>\n",
       "      <td>...</td>\n",
       "      <td>2028.03</td>\n",
       "      <td>7864.87</td>\n",
       "      <td>10.8941</td>\n",
       "      <td>0.02</td>\n",
       "      <td>309</td>\n",
       "      <td>1915</td>\n",
       "      <td>84.93</td>\n",
       "      <td>14.08</td>\n",
       "      <td>8.6723</td>\n",
       "      <td>149</td>\n",
       "    </tr>\n",
       "    <tr>\n",
       "      <th>3</th>\n",
       "      <td>1</td>\n",
       "      <td>4</td>\n",
       "      <td>42.0077</td>\n",
       "      <td>0.8416</td>\n",
       "      <td>100.0</td>\n",
       "      <td>445.00</td>\n",
       "      <td>549.51</td>\n",
       "      <td>1354.03</td>\n",
       "      <td>1126.38</td>\n",
       "      <td>3.91</td>\n",
       "      <td>...</td>\n",
       "      <td>2387.61</td>\n",
       "      <td>8068.66</td>\n",
       "      <td>9.3528</td>\n",
       "      <td>0.02</td>\n",
       "      <td>329</td>\n",
       "      <td>2212</td>\n",
       "      <td>100.00</td>\n",
       "      <td>10.59</td>\n",
       "      <td>6.4701</td>\n",
       "      <td>149</td>\n",
       "    </tr>\n",
       "    <tr>\n",
       "      <th>4</th>\n",
       "      <td>1</td>\n",
       "      <td>5</td>\n",
       "      <td>25.0005</td>\n",
       "      <td>0.6203</td>\n",
       "      <td>60.0</td>\n",
       "      <td>462.54</td>\n",
       "      <td>537.07</td>\n",
       "      <td>1257.71</td>\n",
       "      <td>1047.93</td>\n",
       "      <td>7.05</td>\n",
       "      <td>...</td>\n",
       "      <td>2028.00</td>\n",
       "      <td>7861.23</td>\n",
       "      <td>10.8963</td>\n",
       "      <td>0.02</td>\n",
       "      <td>309</td>\n",
       "      <td>1915</td>\n",
       "      <td>84.93</td>\n",
       "      <td>14.13</td>\n",
       "      <td>8.5286</td>\n",
       "      <td>149</td>\n",
       "    </tr>\n",
       "  </tbody>\n",
       "</table>\n",
       "<p>5 rows × 27 columns</p>\n",
       "</div>"
      ],
      "text/plain": [
       "   machine_id  cycle  operational_setting_1  operational_setting_2  \\\n",
       "0           1      1                34.9983                 0.8400   \n",
       "1           1      2                41.9982                 0.8408   \n",
       "2           1      3                24.9988                 0.6218   \n",
       "3           1      4                42.0077                 0.8416   \n",
       "4           1      5                25.0005                 0.6203   \n",
       "\n",
       "   operational_setting_3  sensor_01  sensor_02  sensor_03  sensor_04  \\\n",
       "0                  100.0     449.44     555.32    1358.61    1137.23   \n",
       "1                  100.0     445.00     549.90    1353.22    1125.78   \n",
       "2                   60.0     462.54     537.31    1256.76    1047.45   \n",
       "3                  100.0     445.00     549.51    1354.03    1126.38   \n",
       "4                   60.0     462.54     537.07    1257.71    1047.93   \n",
       "\n",
       "   sensor_05  ...  sensor_13  sensor_14  sensor_15  sensor_16  sensor_17  \\\n",
       "0       5.48  ...    2387.72    8048.56     9.3461       0.02        334   \n",
       "1       3.91  ...    2387.66    8072.30     9.3774       0.02        330   \n",
       "2       7.05  ...    2028.03    7864.87    10.8941       0.02        309   \n",
       "3       3.91  ...    2387.61    8068.66     9.3528       0.02        329   \n",
       "4       7.05  ...    2028.00    7861.23    10.8963       0.02        309   \n",
       "\n",
       "   sensor_18  sensor_19  sensor_20  sensor_21  max_cycle  \n",
       "0       2223     100.00      14.73     8.8071        149  \n",
       "1       2212     100.00      10.41     6.2665        149  \n",
       "2       1915      84.93      14.08     8.6723        149  \n",
       "3       2212     100.00      10.59     6.4701        149  \n",
       "4       1915      84.93      14.13     8.5286        149  \n",
       "\n",
       "[5 rows x 27 columns]"
      ]
     },
     "execution_count": 5,
     "metadata": {},
     "output_type": "execute_result"
    }
   ],
   "source": [
    "# Menambahkan kolom max_cycle untuk setiap machine_id yang menunjukkan cycle maksimum\n",
    "turbofan_df['max_cycle'] = turbofan_df.groupby(by=\"machine_id\")['cycle'].transform('max')\n",
    "\n",
    "# Menampilkan beberapa baris pertama dari turbofan_df\n",
    "turbofan_df.head()\n"
   ]
  },
  {
   "cell_type": "code",
   "execution_count": 6,
   "id": "5f4d7fcc",
   "metadata": {
    "execution": {
     "iopub.execute_input": "2022-07-27T09:50:53.565864Z",
     "iopub.status.busy": "2022-07-27T09:50:53.565423Z",
     "iopub.status.idle": "2022-07-27T09:50:53.610203Z",
     "shell.execute_reply": "2022-07-27T09:50:53.609138Z"
    },
    "papermill": {
     "duration": 0.065847,
     "end_time": "2022-07-27T09:50:53.612881",
     "exception": false,
     "start_time": "2022-07-27T09:50:53.547034",
     "status": "completed"
    },
    "tags": []
   },
   "outputs": [
    {
     "name": "stderr",
     "output_type": "stream",
     "text": [
      "C:\\Users\\ASUS\\AppData\\Local\\Temp\\ipykernel_49332\\969144477.py:2: FutureWarning: The provided callable <built-in function max> is currently using SeriesGroupBy.max. In a future version of pandas, the provided callable will be used directly. To keep current behavior pass the string \"max\" instead.\n",
      "  max_cycle = turbofan_df.groupby(by = \"machine_id\")['cycle'].transform(max)\n"
     ]
    },
    {
     "data": {
      "text/html": [
       "<div>\n",
       "<style scoped>\n",
       "    .dataframe tbody tr th:only-of-type {\n",
       "        vertical-align: middle;\n",
       "    }\n",
       "\n",
       "    .dataframe tbody tr th {\n",
       "        vertical-align: top;\n",
       "    }\n",
       "\n",
       "    .dataframe thead th {\n",
       "        text-align: right;\n",
       "    }\n",
       "</style>\n",
       "<table border=\"1\" class=\"dataframe\">\n",
       "  <thead>\n",
       "    <tr style=\"text-align: right;\">\n",
       "      <th></th>\n",
       "      <th>cycle</th>\n",
       "      <th>operational_setting_1</th>\n",
       "      <th>operational_setting_2</th>\n",
       "      <th>operational_setting_3</th>\n",
       "      <th>sensor_01</th>\n",
       "      <th>sensor_02</th>\n",
       "      <th>sensor_03</th>\n",
       "      <th>sensor_04</th>\n",
       "      <th>sensor_05</th>\n",
       "      <th>sensor_06</th>\n",
       "      <th>...</th>\n",
       "      <th>sensor_13</th>\n",
       "      <th>sensor_14</th>\n",
       "      <th>sensor_15</th>\n",
       "      <th>sensor_16</th>\n",
       "      <th>sensor_17</th>\n",
       "      <th>sensor_18</th>\n",
       "      <th>sensor_19</th>\n",
       "      <th>sensor_20</th>\n",
       "      <th>sensor_21</th>\n",
       "      <th>max_cycle</th>\n",
       "    </tr>\n",
       "    <tr>\n",
       "      <th>machine_id</th>\n",
       "      <th></th>\n",
       "      <th></th>\n",
       "      <th></th>\n",
       "      <th></th>\n",
       "      <th></th>\n",
       "      <th></th>\n",
       "      <th></th>\n",
       "      <th></th>\n",
       "      <th></th>\n",
       "      <th></th>\n",
       "      <th></th>\n",
       "      <th></th>\n",
       "      <th></th>\n",
       "      <th></th>\n",
       "      <th></th>\n",
       "      <th></th>\n",
       "      <th></th>\n",
       "      <th></th>\n",
       "      <th></th>\n",
       "      <th></th>\n",
       "      <th></th>\n",
       "    </tr>\n",
       "  </thead>\n",
       "  <tbody>\n",
       "    <tr>\n",
       "      <th>1</th>\n",
       "      <td>149</td>\n",
       "      <td>42.0017</td>\n",
       "      <td>0.8414</td>\n",
       "      <td>100.0</td>\n",
       "      <td>445.00</td>\n",
       "      <td>550.49</td>\n",
       "      <td>1366.01</td>\n",
       "      <td>1149.81</td>\n",
       "      <td>3.91</td>\n",
       "      <td>5.71</td>\n",
       "      <td>...</td>\n",
       "      <td>2387.40</td>\n",
       "      <td>8066.19</td>\n",
       "      <td>9.4765</td>\n",
       "      <td>0.02</td>\n",
       "      <td>332</td>\n",
       "      <td>2212</td>\n",
       "      <td>100.0</td>\n",
       "      <td>10.45</td>\n",
       "      <td>6.2285</td>\n",
       "      <td>149</td>\n",
       "    </tr>\n",
       "    <tr>\n",
       "      <th>2</th>\n",
       "      <td>269</td>\n",
       "      <td>42.0047</td>\n",
       "      <td>0.8411</td>\n",
       "      <td>100.0</td>\n",
       "      <td>445.00</td>\n",
       "      <td>550.11</td>\n",
       "      <td>1368.75</td>\n",
       "      <td>1146.65</td>\n",
       "      <td>3.91</td>\n",
       "      <td>5.72</td>\n",
       "      <td>...</td>\n",
       "      <td>2388.42</td>\n",
       "      <td>8110.26</td>\n",
       "      <td>9.4315</td>\n",
       "      <td>0.02</td>\n",
       "      <td>334</td>\n",
       "      <td>2212</td>\n",
       "      <td>100.0</td>\n",
       "      <td>10.56</td>\n",
       "      <td>6.2615</td>\n",
       "      <td>269</td>\n",
       "    </tr>\n",
       "    <tr>\n",
       "      <th>3</th>\n",
       "      <td>206</td>\n",
       "      <td>42.0073</td>\n",
       "      <td>0.8400</td>\n",
       "      <td>100.0</td>\n",
       "      <td>445.00</td>\n",
       "      <td>550.80</td>\n",
       "      <td>1356.97</td>\n",
       "      <td>1144.89</td>\n",
       "      <td>3.91</td>\n",
       "      <td>5.72</td>\n",
       "      <td>...</td>\n",
       "      <td>2387.87</td>\n",
       "      <td>8082.25</td>\n",
       "      <td>9.4962</td>\n",
       "      <td>0.02</td>\n",
       "      <td>333</td>\n",
       "      <td>2212</td>\n",
       "      <td>100.0</td>\n",
       "      <td>10.46</td>\n",
       "      <td>6.3349</td>\n",
       "      <td>206</td>\n",
       "    </tr>\n",
       "    <tr>\n",
       "      <th>4</th>\n",
       "      <td>235</td>\n",
       "      <td>0.0030</td>\n",
       "      <td>0.0007</td>\n",
       "      <td>100.0</td>\n",
       "      <td>518.67</td>\n",
       "      <td>643.68</td>\n",
       "      <td>1605.86</td>\n",
       "      <td>1428.21</td>\n",
       "      <td>14.62</td>\n",
       "      <td>21.61</td>\n",
       "      <td>...</td>\n",
       "      <td>2388.17</td>\n",
       "      <td>8215.14</td>\n",
       "      <td>8.5784</td>\n",
       "      <td>0.03</td>\n",
       "      <td>397</td>\n",
       "      <td>2388</td>\n",
       "      <td>100.0</td>\n",
       "      <td>38.47</td>\n",
       "      <td>22.9717</td>\n",
       "      <td>235</td>\n",
       "    </tr>\n",
       "    <tr>\n",
       "      <th>5</th>\n",
       "      <td>154</td>\n",
       "      <td>42.0049</td>\n",
       "      <td>0.8408</td>\n",
       "      <td>100.0</td>\n",
       "      <td>445.00</td>\n",
       "      <td>550.53</td>\n",
       "      <td>1364.82</td>\n",
       "      <td>1146.87</td>\n",
       "      <td>3.91</td>\n",
       "      <td>5.72</td>\n",
       "      <td>...</td>\n",
       "      <td>2389.19</td>\n",
       "      <td>8151.36</td>\n",
       "      <td>9.4339</td>\n",
       "      <td>0.02</td>\n",
       "      <td>333</td>\n",
       "      <td>2212</td>\n",
       "      <td>100.0</td>\n",
       "      <td>10.74</td>\n",
       "      <td>6.3906</td>\n",
       "      <td>154</td>\n",
       "    </tr>\n",
       "  </tbody>\n",
       "</table>\n",
       "<p>5 rows × 26 columns</p>\n",
       "</div>"
      ],
      "text/plain": [
       "            cycle  operational_setting_1  operational_setting_2  \\\n",
       "machine_id                                                        \n",
       "1             149                42.0017                 0.8414   \n",
       "2             269                42.0047                 0.8411   \n",
       "3             206                42.0073                 0.8400   \n",
       "4             235                 0.0030                 0.0007   \n",
       "5             154                42.0049                 0.8408   \n",
       "\n",
       "            operational_setting_3  sensor_01  sensor_02  sensor_03  sensor_04  \\\n",
       "machine_id                                                                      \n",
       "1                           100.0     445.00     550.49    1366.01    1149.81   \n",
       "2                           100.0     445.00     550.11    1368.75    1146.65   \n",
       "3                           100.0     445.00     550.80    1356.97    1144.89   \n",
       "4                           100.0     518.67     643.68    1605.86    1428.21   \n",
       "5                           100.0     445.00     550.53    1364.82    1146.87   \n",
       "\n",
       "            sensor_05  sensor_06  ...  sensor_13  sensor_14  sensor_15  \\\n",
       "machine_id                        ...                                    \n",
       "1                3.91       5.71  ...    2387.40    8066.19     9.4765   \n",
       "2                3.91       5.72  ...    2388.42    8110.26     9.4315   \n",
       "3                3.91       5.72  ...    2387.87    8082.25     9.4962   \n",
       "4               14.62      21.61  ...    2388.17    8215.14     8.5784   \n",
       "5                3.91       5.72  ...    2389.19    8151.36     9.4339   \n",
       "\n",
       "            sensor_16  sensor_17  sensor_18  sensor_19  sensor_20  sensor_21  \\\n",
       "machine_id                                                                     \n",
       "1                0.02        332       2212      100.0      10.45     6.2285   \n",
       "2                0.02        334       2212      100.0      10.56     6.2615   \n",
       "3                0.02        333       2212      100.0      10.46     6.3349   \n",
       "4                0.03        397       2388      100.0      38.47    22.9717   \n",
       "5                0.02        333       2212      100.0      10.74     6.3906   \n",
       "\n",
       "            max_cycle  \n",
       "machine_id             \n",
       "1                 149  \n",
       "2                 269  \n",
       "3                 206  \n",
       "4                 235  \n",
       "5                 154  \n",
       "\n",
       "[5 rows x 26 columns]"
      ]
     },
     "execution_count": 6,
     "metadata": {},
     "output_type": "execute_result"
    }
   ],
   "source": [
    "# Select maximum cycle\n",
    "max_cycle = turbofan_df.groupby(by = \"machine_id\")['cycle'].transform(max)\n",
    "turbofan_df = turbofan_df[turbofan_df[\"cycle\"] == max_cycle].set_index('machine_id')\n",
    "turbofan_df.head()"
   ]
  },
  {
   "cell_type": "markdown",
   "id": "6d3fc602",
   "metadata": {
    "papermill": {
     "duration": 0.016667,
     "end_time": "2022-07-27T09:50:53.646547",
     "exception": false,
     "start_time": "2022-07-27T09:50:53.629880",
     "status": "completed"
    },
    "tags": []
   },
   "source": [
    "Selanjutnya, kita buat lollipop plot untuk memperoleh distribusi siklus maksimum pada setiap mesin"
   ]
  },
  {
   "cell_type": "code",
   "execution_count": 7,
   "id": "0e0b0f2a",
   "metadata": {},
   "outputs": [
    {
     "data": {
      "text/html": [
       "<div>\n",
       "<style scoped>\n",
       "    .dataframe tbody tr th:only-of-type {\n",
       "        vertical-align: middle;\n",
       "    }\n",
       "\n",
       "    .dataframe tbody tr th {\n",
       "        vertical-align: top;\n",
       "    }\n",
       "\n",
       "    .dataframe thead th {\n",
       "        text-align: right;\n",
       "    }\n",
       "</style>\n",
       "<table border=\"1\" class=\"dataframe\">\n",
       "  <thead>\n",
       "    <tr style=\"text-align: right;\">\n",
       "      <th></th>\n",
       "      <th>cycle</th>\n",
       "      <th>operational_setting_1</th>\n",
       "      <th>operational_setting_2</th>\n",
       "      <th>operational_setting_3</th>\n",
       "      <th>sensor_01</th>\n",
       "      <th>sensor_02</th>\n",
       "      <th>sensor_03</th>\n",
       "      <th>sensor_04</th>\n",
       "      <th>sensor_05</th>\n",
       "      <th>sensor_06</th>\n",
       "      <th>...</th>\n",
       "      <th>sensor_14</th>\n",
       "      <th>sensor_15</th>\n",
       "      <th>sensor_16</th>\n",
       "      <th>sensor_17</th>\n",
       "      <th>sensor_18</th>\n",
       "      <th>sensor_19</th>\n",
       "      <th>sensor_20</th>\n",
       "      <th>sensor_21</th>\n",
       "      <th>max_cycle</th>\n",
       "      <th>status</th>\n",
       "    </tr>\n",
       "    <tr>\n",
       "      <th>machine_id</th>\n",
       "      <th></th>\n",
       "      <th></th>\n",
       "      <th></th>\n",
       "      <th></th>\n",
       "      <th></th>\n",
       "      <th></th>\n",
       "      <th></th>\n",
       "      <th></th>\n",
       "      <th></th>\n",
       "      <th></th>\n",
       "      <th></th>\n",
       "      <th></th>\n",
       "      <th></th>\n",
       "      <th></th>\n",
       "      <th></th>\n",
       "      <th></th>\n",
       "      <th></th>\n",
       "      <th></th>\n",
       "      <th></th>\n",
       "      <th></th>\n",
       "      <th></th>\n",
       "    </tr>\n",
       "  </thead>\n",
       "  <tbody>\n",
       "    <tr>\n",
       "      <th>1</th>\n",
       "      <td>149</td>\n",
       "      <td>42.0017</td>\n",
       "      <td>0.8414</td>\n",
       "      <td>100.0</td>\n",
       "      <td>445.00</td>\n",
       "      <td>550.49</td>\n",
       "      <td>1366.01</td>\n",
       "      <td>1149.81</td>\n",
       "      <td>3.91</td>\n",
       "      <td>5.71</td>\n",
       "      <td>...</td>\n",
       "      <td>8066.19</td>\n",
       "      <td>9.4765</td>\n",
       "      <td>0.02</td>\n",
       "      <td>332</td>\n",
       "      <td>2212</td>\n",
       "      <td>100.0</td>\n",
       "      <td>10.45</td>\n",
       "      <td>6.2285</td>\n",
       "      <td>149</td>\n",
       "      <td>1</td>\n",
       "    </tr>\n",
       "    <tr>\n",
       "      <th>2</th>\n",
       "      <td>269</td>\n",
       "      <td>42.0047</td>\n",
       "      <td>0.8411</td>\n",
       "      <td>100.0</td>\n",
       "      <td>445.00</td>\n",
       "      <td>550.11</td>\n",
       "      <td>1368.75</td>\n",
       "      <td>1146.65</td>\n",
       "      <td>3.91</td>\n",
       "      <td>5.72</td>\n",
       "      <td>...</td>\n",
       "      <td>8110.26</td>\n",
       "      <td>9.4315</td>\n",
       "      <td>0.02</td>\n",
       "      <td>334</td>\n",
       "      <td>2212</td>\n",
       "      <td>100.0</td>\n",
       "      <td>10.56</td>\n",
       "      <td>6.2615</td>\n",
       "      <td>269</td>\n",
       "      <td>0</td>\n",
       "    </tr>\n",
       "    <tr>\n",
       "      <th>3</th>\n",
       "      <td>206</td>\n",
       "      <td>42.0073</td>\n",
       "      <td>0.8400</td>\n",
       "      <td>100.0</td>\n",
       "      <td>445.00</td>\n",
       "      <td>550.80</td>\n",
       "      <td>1356.97</td>\n",
       "      <td>1144.89</td>\n",
       "      <td>3.91</td>\n",
       "      <td>5.72</td>\n",
       "      <td>...</td>\n",
       "      <td>8082.25</td>\n",
       "      <td>9.4962</td>\n",
       "      <td>0.02</td>\n",
       "      <td>333</td>\n",
       "      <td>2212</td>\n",
       "      <td>100.0</td>\n",
       "      <td>10.46</td>\n",
       "      <td>6.3349</td>\n",
       "      <td>206</td>\n",
       "      <td>0</td>\n",
       "    </tr>\n",
       "    <tr>\n",
       "      <th>4</th>\n",
       "      <td>235</td>\n",
       "      <td>0.0030</td>\n",
       "      <td>0.0007</td>\n",
       "      <td>100.0</td>\n",
       "      <td>518.67</td>\n",
       "      <td>643.68</td>\n",
       "      <td>1605.86</td>\n",
       "      <td>1428.21</td>\n",
       "      <td>14.62</td>\n",
       "      <td>21.61</td>\n",
       "      <td>...</td>\n",
       "      <td>8215.14</td>\n",
       "      <td>8.5784</td>\n",
       "      <td>0.03</td>\n",
       "      <td>397</td>\n",
       "      <td>2388</td>\n",
       "      <td>100.0</td>\n",
       "      <td>38.47</td>\n",
       "      <td>22.9717</td>\n",
       "      <td>235</td>\n",
       "      <td>0</td>\n",
       "    </tr>\n",
       "    <tr>\n",
       "      <th>5</th>\n",
       "      <td>154</td>\n",
       "      <td>42.0049</td>\n",
       "      <td>0.8408</td>\n",
       "      <td>100.0</td>\n",
       "      <td>445.00</td>\n",
       "      <td>550.53</td>\n",
       "      <td>1364.82</td>\n",
       "      <td>1146.87</td>\n",
       "      <td>3.91</td>\n",
       "      <td>5.72</td>\n",
       "      <td>...</td>\n",
       "      <td>8151.36</td>\n",
       "      <td>9.4339</td>\n",
       "      <td>0.02</td>\n",
       "      <td>333</td>\n",
       "      <td>2212</td>\n",
       "      <td>100.0</td>\n",
       "      <td>10.74</td>\n",
       "      <td>6.3906</td>\n",
       "      <td>154</td>\n",
       "      <td>1</td>\n",
       "    </tr>\n",
       "    <tr>\n",
       "      <th>...</th>\n",
       "      <td>...</td>\n",
       "      <td>...</td>\n",
       "      <td>...</td>\n",
       "      <td>...</td>\n",
       "      <td>...</td>\n",
       "      <td>...</td>\n",
       "      <td>...</td>\n",
       "      <td>...</td>\n",
       "      <td>...</td>\n",
       "      <td>...</td>\n",
       "      <td>...</td>\n",
       "      <td>...</td>\n",
       "      <td>...</td>\n",
       "      <td>...</td>\n",
       "      <td>...</td>\n",
       "      <td>...</td>\n",
       "      <td>...</td>\n",
       "      <td>...</td>\n",
       "      <td>...</td>\n",
       "      <td>...</td>\n",
       "      <td>...</td>\n",
       "    </tr>\n",
       "    <tr>\n",
       "      <th>256</th>\n",
       "      <td>163</td>\n",
       "      <td>0.0019</td>\n",
       "      <td>0.0003</td>\n",
       "      <td>100.0</td>\n",
       "      <td>518.67</td>\n",
       "      <td>643.15</td>\n",
       "      <td>1597.21</td>\n",
       "      <td>1425.84</td>\n",
       "      <td>14.62</td>\n",
       "      <td>21.61</td>\n",
       "      <td>...</td>\n",
       "      <td>8128.22</td>\n",
       "      <td>8.5586</td>\n",
       "      <td>0.03</td>\n",
       "      <td>396</td>\n",
       "      <td>2388</td>\n",
       "      <td>100.0</td>\n",
       "      <td>38.62</td>\n",
       "      <td>23.0771</td>\n",
       "      <td>163</td>\n",
       "      <td>1</td>\n",
       "    </tr>\n",
       "    <tr>\n",
       "      <th>257</th>\n",
       "      <td>309</td>\n",
       "      <td>42.0077</td>\n",
       "      <td>0.8411</td>\n",
       "      <td>100.0</td>\n",
       "      <td>445.00</td>\n",
       "      <td>550.84</td>\n",
       "      <td>1369.00</td>\n",
       "      <td>1146.53</td>\n",
       "      <td>3.91</td>\n",
       "      <td>5.72</td>\n",
       "      <td>...</td>\n",
       "      <td>8171.37</td>\n",
       "      <td>9.4156</td>\n",
       "      <td>0.02</td>\n",
       "      <td>336</td>\n",
       "      <td>2212</td>\n",
       "      <td>100.0</td>\n",
       "      <td>10.47</td>\n",
       "      <td>6.3085</td>\n",
       "      <td>309</td>\n",
       "      <td>0</td>\n",
       "    </tr>\n",
       "    <tr>\n",
       "      <th>258</th>\n",
       "      <td>143</td>\n",
       "      <td>9.9984</td>\n",
       "      <td>0.2500</td>\n",
       "      <td>100.0</td>\n",
       "      <td>489.05</td>\n",
       "      <td>606.05</td>\n",
       "      <td>1513.93</td>\n",
       "      <td>1326.79</td>\n",
       "      <td>10.52</td>\n",
       "      <td>15.50</td>\n",
       "      <td>...</td>\n",
       "      <td>8124.16</td>\n",
       "      <td>8.7392</td>\n",
       "      <td>0.03</td>\n",
       "      <td>372</td>\n",
       "      <td>2319</td>\n",
       "      <td>100.0</td>\n",
       "      <td>28.32</td>\n",
       "      <td>16.9473</td>\n",
       "      <td>143</td>\n",
       "      <td>1</td>\n",
       "    </tr>\n",
       "    <tr>\n",
       "      <th>259</th>\n",
       "      <td>205</td>\n",
       "      <td>41.9989</td>\n",
       "      <td>0.8405</td>\n",
       "      <td>100.0</td>\n",
       "      <td>445.00</td>\n",
       "      <td>550.60</td>\n",
       "      <td>1366.52</td>\n",
       "      <td>1149.97</td>\n",
       "      <td>3.91</td>\n",
       "      <td>5.71</td>\n",
       "      <td>...</td>\n",
       "      <td>8075.91</td>\n",
       "      <td>9.4882</td>\n",
       "      <td>0.02</td>\n",
       "      <td>333</td>\n",
       "      <td>2212</td>\n",
       "      <td>100.0</td>\n",
       "      <td>10.30</td>\n",
       "      <td>6.2778</td>\n",
       "      <td>205</td>\n",
       "      <td>0</td>\n",
       "    </tr>\n",
       "    <tr>\n",
       "      <th>260</th>\n",
       "      <td>316</td>\n",
       "      <td>35.0036</td>\n",
       "      <td>0.8400</td>\n",
       "      <td>100.0</td>\n",
       "      <td>449.44</td>\n",
       "      <td>556.64</td>\n",
       "      <td>1374.61</td>\n",
       "      <td>1145.52</td>\n",
       "      <td>5.48</td>\n",
       "      <td>8.01</td>\n",
       "      <td>...</td>\n",
       "      <td>8185.35</td>\n",
       "      <td>9.3998</td>\n",
       "      <td>0.02</td>\n",
       "      <td>338</td>\n",
       "      <td>2223</td>\n",
       "      <td>100.0</td>\n",
       "      <td>14.75</td>\n",
       "      <td>8.8446</td>\n",
       "      <td>316</td>\n",
       "      <td>0</td>\n",
       "    </tr>\n",
       "  </tbody>\n",
       "</table>\n",
       "<p>260 rows × 27 columns</p>\n",
       "</div>"
      ],
      "text/plain": [
       "            cycle  operational_setting_1  operational_setting_2  \\\n",
       "machine_id                                                        \n",
       "1             149                42.0017                 0.8414   \n",
       "2             269                42.0047                 0.8411   \n",
       "3             206                42.0073                 0.8400   \n",
       "4             235                 0.0030                 0.0007   \n",
       "5             154                42.0049                 0.8408   \n",
       "...           ...                    ...                    ...   \n",
       "256           163                 0.0019                 0.0003   \n",
       "257           309                42.0077                 0.8411   \n",
       "258           143                 9.9984                 0.2500   \n",
       "259           205                41.9989                 0.8405   \n",
       "260           316                35.0036                 0.8400   \n",
       "\n",
       "            operational_setting_3  sensor_01  sensor_02  sensor_03  sensor_04  \\\n",
       "machine_id                                                                      \n",
       "1                           100.0     445.00     550.49    1366.01    1149.81   \n",
       "2                           100.0     445.00     550.11    1368.75    1146.65   \n",
       "3                           100.0     445.00     550.80    1356.97    1144.89   \n",
       "4                           100.0     518.67     643.68    1605.86    1428.21   \n",
       "5                           100.0     445.00     550.53    1364.82    1146.87   \n",
       "...                           ...        ...        ...        ...        ...   \n",
       "256                         100.0     518.67     643.15    1597.21    1425.84   \n",
       "257                         100.0     445.00     550.84    1369.00    1146.53   \n",
       "258                         100.0     489.05     606.05    1513.93    1326.79   \n",
       "259                         100.0     445.00     550.60    1366.52    1149.97   \n",
       "260                         100.0     449.44     556.64    1374.61    1145.52   \n",
       "\n",
       "            sensor_05  sensor_06  ...  sensor_14  sensor_15  sensor_16  \\\n",
       "machine_id                        ...                                    \n",
       "1                3.91       5.71  ...    8066.19     9.4765       0.02   \n",
       "2                3.91       5.72  ...    8110.26     9.4315       0.02   \n",
       "3                3.91       5.72  ...    8082.25     9.4962       0.02   \n",
       "4               14.62      21.61  ...    8215.14     8.5784       0.03   \n",
       "5                3.91       5.72  ...    8151.36     9.4339       0.02   \n",
       "...               ...        ...  ...        ...        ...        ...   \n",
       "256             14.62      21.61  ...    8128.22     8.5586       0.03   \n",
       "257              3.91       5.72  ...    8171.37     9.4156       0.02   \n",
       "258             10.52      15.50  ...    8124.16     8.7392       0.03   \n",
       "259              3.91       5.71  ...    8075.91     9.4882       0.02   \n",
       "260              5.48       8.01  ...    8185.35     9.3998       0.02   \n",
       "\n",
       "            sensor_17  sensor_18  sensor_19  sensor_20  sensor_21  max_cycle  \\\n",
       "machine_id                                                                     \n",
       "1                 332       2212      100.0      10.45     6.2285        149   \n",
       "2                 334       2212      100.0      10.56     6.2615        269   \n",
       "3                 333       2212      100.0      10.46     6.3349        206   \n",
       "4                 397       2388      100.0      38.47    22.9717        235   \n",
       "5                 333       2212      100.0      10.74     6.3906        154   \n",
       "...               ...        ...        ...        ...        ...        ...   \n",
       "256               396       2388      100.0      38.62    23.0771        163   \n",
       "257               336       2212      100.0      10.47     6.3085        309   \n",
       "258               372       2319      100.0      28.32    16.9473        143   \n",
       "259               333       2212      100.0      10.30     6.2778        205   \n",
       "260               338       2223      100.0      14.75     8.8446        316   \n",
       "\n",
       "            status  \n",
       "machine_id          \n",
       "1                1  \n",
       "2                0  \n",
       "3                0  \n",
       "4                0  \n",
       "5                1  \n",
       "...            ...  \n",
       "256              1  \n",
       "257              0  \n",
       "258              1  \n",
       "259              0  \n",
       "260              0  \n",
       "\n",
       "[260 rows x 27 columns]"
      ]
     },
     "execution_count": 7,
     "metadata": {},
     "output_type": "execute_result"
    }
   ],
   "source": [
    "# Create status column\n",
    "turbofan_df['status'] = turbofan_df['cycle'].apply(lambda x: 0 if x > 200 else 1)\n",
    "\n",
    "# Menampilkan beberapa baris pertama setelah penambahan kolom 'status'\n",
    "turbofan_df"
   ]
  },
  {
   "cell_type": "code",
   "execution_count": 8,
   "id": "6a6befc5",
   "metadata": {
    "execution": {
     "iopub.execute_input": "2022-07-27T09:50:54.245449Z",
     "iopub.status.busy": "2022-07-27T09:50:54.245018Z",
     "iopub.status.idle": "2022-07-27T09:50:54.253948Z",
     "shell.execute_reply": "2022-07-27T09:50:54.253043Z"
    },
    "papermill": {
     "duration": 0.030861,
     "end_time": "2022-07-27T09:50:54.256190",
     "exception": false,
     "start_time": "2022-07-27T09:50:54.225329",
     "status": "completed"
    },
    "tags": []
   },
   "outputs": [
    {
     "data": {
      "text/plain": [
       "status\n",
       "1    136\n",
       "0    124\n",
       "Name: count, dtype: int64"
      ]
     },
     "execution_count": 8,
     "metadata": {},
     "output_type": "execute_result"
    }
   ],
   "source": [
    "# Distribution of each status\n",
    "turbofan_df['status'].value_counts()"
   ]
  },
  {
   "cell_type": "markdown",
   "id": "dbe85ae0",
   "metadata": {
    "papermill": {
     "duration": 0.018036,
     "end_time": "2022-07-27T09:50:54.293935",
     "exception": false,
     "start_time": "2022-07-27T09:50:54.275899",
     "status": "completed"
    },
    "tags": []
   },
   "source": [
    "# Exploratory Data Analysis"
   ]
  },
  {
   "cell_type": "markdown",
   "id": "9cdc4792",
   "metadata": {
    "papermill": {
     "duration": 0.018046,
     "end_time": "2022-07-27T09:50:54.330404",
     "exception": false,
     "start_time": "2022-07-27T09:50:54.312358",
     "status": "completed"
    },
    "tags": []
   },
   "source": [
    "Langkah selanjutnya adalah melakukan *feature selection* yaitu pemilihan kolom/variabel yang dapat dimasukkan ke dalam model"
   ]
  },
  {
   "cell_type": "markdown",
   "id": "7f8875e2",
   "metadata": {
    "papermill": {
     "duration": 0.018286,
     "end_time": "2022-07-27T09:50:54.367119",
     "exception": false,
     "start_time": "2022-07-27T09:50:54.348833",
     "status": "completed"
    },
    "tags": []
   },
   "source": [
    "## Check Uniqueness"
   ]
  },
  {
   "cell_type": "markdown",
   "id": "533bb9df",
   "metadata": {
    "papermill": {
     "duration": 0.018381,
     "end_time": "2022-07-27T09:50:54.403820",
     "exception": false,
     "start_time": "2022-07-27T09:50:54.385439",
     "status": "completed"
    },
    "tags": []
   },
   "source": [
    "Pertama kita akan memeriksa banyak nilai unik pada setiap kolom lalu kolom yang memiliki nilai unik yang sedikit akan diganti dengan tipe data kategori."
   ]
  },
  {
   "cell_type": "code",
   "execution_count": 9,
   "id": "ced9738a",
   "metadata": {
    "execution": {
     "iopub.execute_input": "2022-07-27T09:50:54.444649Z",
     "iopub.status.busy": "2022-07-27T09:50:54.443588Z",
     "iopub.status.idle": "2022-07-27T09:50:54.459569Z",
     "shell.execute_reply": "2022-07-27T09:50:54.458727Z"
    },
    "papermill": {
     "duration": 0.039796,
     "end_time": "2022-07-27T09:50:54.461986",
     "exception": false,
     "start_time": "2022-07-27T09:50:54.422190",
     "status": "completed"
    },
    "tags": []
   },
   "outputs": [
    {
     "data": {
      "text/plain": [
       "cycle                    133\n",
       "operational_setting_1    165\n",
       "operational_setting_2     62\n",
       "operational_setting_3      2\n",
       "sensor_01                  6\n",
       "sensor_02                188\n",
       "sensor_03                257\n",
       "sensor_04                251\n",
       "sensor_05                  6\n",
       "sensor_06                  8\n",
       "sensor_07                209\n",
       "sensor_08                177\n",
       "sensor_09                259\n",
       "sensor_10                  8\n",
       "sensor_11                123\n",
       "sensor_12                198\n",
       "sensor_13                152\n",
       "sensor_14                258\n",
       "sensor_15                247\n",
       "sensor_16                  2\n",
       "sensor_17                 27\n",
       "sensor_18                  6\n",
       "sensor_19                  2\n",
       "sensor_20                135\n",
       "sensor_21                253\n",
       "max_cycle                133\n",
       "status                     2\n",
       "dtype: int64"
      ]
     },
     "execution_count": 9,
     "metadata": {},
     "output_type": "execute_result"
    }
   ],
   "source": [
    "turbofan_df.nunique()"
   ]
  },
  {
   "cell_type": "markdown",
   "id": "061724bf",
   "metadata": {
    "papermill": {
     "duration": 0.018318,
     "end_time": "2022-07-27T09:50:54.499211",
     "exception": false,
     "start_time": "2022-07-27T09:50:54.480893",
     "status": "completed"
    },
    "tags": []
   },
   "source": [
    "> Kolom yang dapat diganti ke tipe kategori: `operational_setting_3`, `sensor_16`"
   ]
  },
  {
   "cell_type": "code",
   "execution_count": 10,
   "id": "3ceb04c4",
   "metadata": {
    "execution": {
     "iopub.execute_input": "2022-07-27T09:50:54.541582Z",
     "iopub.status.busy": "2022-07-27T09:50:54.540895Z",
     "iopub.status.idle": "2022-07-27T09:50:54.564757Z",
     "shell.execute_reply": "2022-07-27T09:50:54.562877Z"
    },
    "papermill": {
     "duration": 0.047103,
     "end_time": "2022-07-27T09:50:54.567273",
     "exception": false,
     "start_time": "2022-07-27T09:50:54.520170",
     "status": "completed"
    },
    "tags": []
   },
   "outputs": [
    {
     "name": "stdout",
     "output_type": "stream",
     "text": [
      "<class 'pandas.core.frame.DataFrame'>\n",
      "Index: 260 entries, 1 to 260\n",
      "Data columns (total 27 columns):\n",
      " #   Column                 Non-Null Count  Dtype   \n",
      "---  ------                 --------------  -----   \n",
      " 0   cycle                  260 non-null    int64   \n",
      " 1   operational_setting_1  260 non-null    float64 \n",
      " 2   operational_setting_2  260 non-null    float64 \n",
      " 3   operational_setting_3  260 non-null    category\n",
      " 4   sensor_01              260 non-null    float64 \n",
      " 5   sensor_02              260 non-null    float64 \n",
      " 6   sensor_03              260 non-null    float64 \n",
      " 7   sensor_04              260 non-null    float64 \n",
      " 8   sensor_05              260 non-null    float64 \n",
      " 9   sensor_06              260 non-null    float64 \n",
      " 10  sensor_07              260 non-null    float64 \n",
      " 11  sensor_08              260 non-null    float64 \n",
      " 12  sensor_09              260 non-null    float64 \n",
      " 13  sensor_10              260 non-null    float64 \n",
      " 14  sensor_11              260 non-null    float64 \n",
      " 15  sensor_12              260 non-null    float64 \n",
      " 16  sensor_13              260 non-null    float64 \n",
      " 17  sensor_14              260 non-null    float64 \n",
      " 18  sensor_15              260 non-null    float64 \n",
      " 19  sensor_16              260 non-null    category\n",
      " 20  sensor_17              260 non-null    int64   \n",
      " 21  sensor_18              260 non-null    int64   \n",
      " 22  sensor_19              260 non-null    float64 \n",
      " 23  sensor_20              260 non-null    float64 \n",
      " 24  sensor_21              260 non-null    float64 \n",
      " 25  max_cycle              260 non-null    int64   \n",
      " 26  status                 260 non-null    int64   \n",
      "dtypes: category(2), float64(20), int64(5)\n",
      "memory usage: 53.6 KB\n"
     ]
    }
   ],
   "source": [
    "# Change to category\n",
    "category_columns = ['operational_setting_3', 'sensor_16']\n",
    "\n",
    "turbofan_df[category_columns] = turbofan_df[category_columns].astype('category')\n",
    "turbofan_df.info()"
   ]
  },
  {
   "cell_type": "code",
   "execution_count": 11,
   "id": "f44e9a41",
   "metadata": {},
   "outputs": [
    {
     "data": {
      "text/html": [
       "<div>\n",
       "<style scoped>\n",
       "    .dataframe tbody tr th:only-of-type {\n",
       "        vertical-align: middle;\n",
       "    }\n",
       "\n",
       "    .dataframe tbody tr th {\n",
       "        vertical-align: top;\n",
       "    }\n",
       "\n",
       "    .dataframe thead th {\n",
       "        text-align: right;\n",
       "    }\n",
       "</style>\n",
       "<table border=\"1\" class=\"dataframe\">\n",
       "  <thead>\n",
       "    <tr style=\"text-align: right;\">\n",
       "      <th></th>\n",
       "      <th>cycle</th>\n",
       "      <th>operational_setting_1</th>\n",
       "      <th>operational_setting_2</th>\n",
       "      <th>sensor_01</th>\n",
       "      <th>sensor_02</th>\n",
       "      <th>sensor_03</th>\n",
       "      <th>sensor_04</th>\n",
       "      <th>sensor_05</th>\n",
       "      <th>sensor_06</th>\n",
       "      <th>sensor_07</th>\n",
       "      <th>...</th>\n",
       "      <th>sensor_13</th>\n",
       "      <th>sensor_14</th>\n",
       "      <th>sensor_15</th>\n",
       "      <th>sensor_17</th>\n",
       "      <th>sensor_18</th>\n",
       "      <th>sensor_19</th>\n",
       "      <th>sensor_20</th>\n",
       "      <th>sensor_21</th>\n",
       "      <th>max_cycle</th>\n",
       "      <th>status</th>\n",
       "    </tr>\n",
       "  </thead>\n",
       "  <tbody>\n",
       "    <tr>\n",
       "      <th>count</th>\n",
       "      <td>260.000000</td>\n",
       "      <td>260.000000</td>\n",
       "      <td>260.000000</td>\n",
       "      <td>260.000000</td>\n",
       "      <td>260.000000</td>\n",
       "      <td>260.000000</td>\n",
       "      <td>260.000000</td>\n",
       "      <td>260.000000</td>\n",
       "      <td>260.000000</td>\n",
       "      <td>260.000000</td>\n",
       "      <td>...</td>\n",
       "      <td>260.000000</td>\n",
       "      <td>260.000000</td>\n",
       "      <td>260.000000</td>\n",
       "      <td>260.000000</td>\n",
       "      <td>260.000000</td>\n",
       "      <td>260.000000</td>\n",
       "      <td>260.000000</td>\n",
       "      <td>260.000000</td>\n",
       "      <td>260.000000</td>\n",
       "      <td>260.000000</td>\n",
       "    </tr>\n",
       "    <tr>\n",
       "      <th>mean</th>\n",
       "      <td>206.765385</td>\n",
       "      <td>27.937113</td>\n",
       "      <td>0.598383</td>\n",
       "      <td>466.689346</td>\n",
       "      <td>575.619115</td>\n",
       "      <td>1425.801000</td>\n",
       "      <td>1218.674692</td>\n",
       "      <td>7.124231</td>\n",
       "      <td>10.386385</td>\n",
       "      <td>255.637115</td>\n",
       "      <td>...</td>\n",
       "      <td>2364.920731</td>\n",
       "      <td>8105.652538</td>\n",
       "      <td>9.288340</td>\n",
       "      <td>349.815385</td>\n",
       "      <td>2242.073077</td>\n",
       "      <td>99.014654</td>\n",
       "      <td>18.644115</td>\n",
       "      <td>11.185072</td>\n",
       "      <td>206.765385</td>\n",
       "      <td>0.523077</td>\n",
       "    </tr>\n",
       "    <tr>\n",
       "      <th>std</th>\n",
       "      <td>46.782198</td>\n",
       "      <td>16.564435</td>\n",
       "      <td>0.324420</td>\n",
       "      <td>27.479073</td>\n",
       "      <td>36.085540</td>\n",
       "      <td>97.552983</td>\n",
       "      <td>114.934975</td>\n",
       "      <td>3.949434</td>\n",
       "      <td>5.864195</td>\n",
       "      <td>153.443600</td>\n",
       "      <td>...</td>\n",
       "      <td>89.267941</td>\n",
       "      <td>74.714146</td>\n",
       "      <td>0.584163</td>\n",
       "      <td>25.629762</td>\n",
       "      <td>108.889934</td>\n",
       "      <td>3.732538</td>\n",
       "      <td>10.443101</td>\n",
       "      <td>6.261529</td>\n",
       "      <td>46.782198</td>\n",
       "      <td>0.500430</td>\n",
       "    </tr>\n",
       "    <tr>\n",
       "      <th>min</th>\n",
       "      <td>128.000000</td>\n",
       "      <td>0.000100</td>\n",
       "      <td>0.000000</td>\n",
       "      <td>445.000000</td>\n",
       "      <td>536.620000</td>\n",
       "      <td>1263.290000</td>\n",
       "      <td>1058.960000</td>\n",
       "      <td>3.910000</td>\n",
       "      <td>5.710000</td>\n",
       "      <td>136.990000</td>\n",
       "      <td>...</td>\n",
       "      <td>2027.610000</td>\n",
       "      <td>7850.960000</td>\n",
       "      <td>8.486100</td>\n",
       "      <td>309.000000</td>\n",
       "      <td>1915.000000</td>\n",
       "      <td>84.930000</td>\n",
       "      <td>10.270000</td>\n",
       "      <td>6.164800</td>\n",
       "      <td>128.000000</td>\n",
       "      <td>0.000000</td>\n",
       "    </tr>\n",
       "    <tr>\n",
       "      <th>25%</th>\n",
       "      <td>174.000000</td>\n",
       "      <td>10.003225</td>\n",
       "      <td>0.250650</td>\n",
       "      <td>445.000000</td>\n",
       "      <td>550.477500</td>\n",
       "      <td>1364.650000</td>\n",
       "      <td>1143.535000</td>\n",
       "      <td>3.910000</td>\n",
       "      <td>5.720000</td>\n",
       "      <td>138.277500</td>\n",
       "      <td>...</td>\n",
       "      <td>2387.970000</td>\n",
       "      <td>8081.580000</td>\n",
       "      <td>8.753125</td>\n",
       "      <td>334.000000</td>\n",
       "      <td>2212.000000</td>\n",
       "      <td>100.000000</td>\n",
       "      <td>10.470000</td>\n",
       "      <td>6.283750</td>\n",
       "      <td>174.000000</td>\n",
       "      <td>0.000000</td>\n",
       "    </tr>\n",
       "    <tr>\n",
       "      <th>50%</th>\n",
       "      <td>199.000000</td>\n",
       "      <td>41.998300</td>\n",
       "      <td>0.840000</td>\n",
       "      <td>445.000000</td>\n",
       "      <td>550.880000</td>\n",
       "      <td>1370.270000</td>\n",
       "      <td>1147.880000</td>\n",
       "      <td>3.910000</td>\n",
       "      <td>5.720000</td>\n",
       "      <td>139.165000</td>\n",
       "      <td>...</td>\n",
       "      <td>2388.320000</td>\n",
       "      <td>8116.755000</td>\n",
       "      <td>9.414700</td>\n",
       "      <td>335.000000</td>\n",
       "      <td>2212.000000</td>\n",
       "      <td>100.000000</td>\n",
       "      <td>10.685000</td>\n",
       "      <td>6.390250</td>\n",
       "      <td>199.000000</td>\n",
       "      <td>1.000000</td>\n",
       "    </tr>\n",
       "    <tr>\n",
       "      <th>75%</th>\n",
       "      <td>230.250000</td>\n",
       "      <td>42.002625</td>\n",
       "      <td>0.840100</td>\n",
       "      <td>489.050000</td>\n",
       "      <td>606.042500</td>\n",
       "      <td>1512.122500</td>\n",
       "      <td>1329.327500</td>\n",
       "      <td>10.520000</td>\n",
       "      <td>15.500000</td>\n",
       "      <td>392.595000</td>\n",
       "      <td>...</td>\n",
       "      <td>2388.752500</td>\n",
       "      <td>8148.730000</td>\n",
       "      <td>9.456725</td>\n",
       "      <td>372.000000</td>\n",
       "      <td>2319.000000</td>\n",
       "      <td>100.000000</td>\n",
       "      <td>28.210000</td>\n",
       "      <td>16.925775</td>\n",
       "      <td>230.250000</td>\n",
       "      <td>1.000000</td>\n",
       "    </tr>\n",
       "    <tr>\n",
       "      <th>max</th>\n",
       "      <td>378.000000</td>\n",
       "      <td>42.007900</td>\n",
       "      <td>0.842000</td>\n",
       "      <td>518.670000</td>\n",
       "      <td>644.260000</td>\n",
       "      <td>1609.460000</td>\n",
       "      <td>1438.160000</td>\n",
       "      <td>14.620000</td>\n",
       "      <td>21.610000</td>\n",
       "      <td>551.980000</td>\n",
       "      <td>...</td>\n",
       "      <td>2390.390000</td>\n",
       "      <td>8252.610000</td>\n",
       "      <td>11.045400</td>\n",
       "      <td>398.000000</td>\n",
       "      <td>2388.000000</td>\n",
       "      <td>100.000000</td>\n",
       "      <td>38.680000</td>\n",
       "      <td>23.153900</td>\n",
       "      <td>378.000000</td>\n",
       "      <td>1.000000</td>\n",
       "    </tr>\n",
       "  </tbody>\n",
       "</table>\n",
       "<p>8 rows × 25 columns</p>\n",
       "</div>"
      ],
      "text/plain": [
       "            cycle  operational_setting_1  operational_setting_2   sensor_01  \\\n",
       "count  260.000000             260.000000             260.000000  260.000000   \n",
       "mean   206.765385              27.937113               0.598383  466.689346   \n",
       "std     46.782198              16.564435               0.324420   27.479073   \n",
       "min    128.000000               0.000100               0.000000  445.000000   \n",
       "25%    174.000000              10.003225               0.250650  445.000000   \n",
       "50%    199.000000              41.998300               0.840000  445.000000   \n",
       "75%    230.250000              42.002625               0.840100  489.050000   \n",
       "max    378.000000              42.007900               0.842000  518.670000   \n",
       "\n",
       "        sensor_02    sensor_03    sensor_04   sensor_05   sensor_06  \\\n",
       "count  260.000000   260.000000   260.000000  260.000000  260.000000   \n",
       "mean   575.619115  1425.801000  1218.674692    7.124231   10.386385   \n",
       "std     36.085540    97.552983   114.934975    3.949434    5.864195   \n",
       "min    536.620000  1263.290000  1058.960000    3.910000    5.710000   \n",
       "25%    550.477500  1364.650000  1143.535000    3.910000    5.720000   \n",
       "50%    550.880000  1370.270000  1147.880000    3.910000    5.720000   \n",
       "75%    606.042500  1512.122500  1329.327500   10.520000   15.500000   \n",
       "max    644.260000  1609.460000  1438.160000   14.620000   21.610000   \n",
       "\n",
       "        sensor_07  ...    sensor_13    sensor_14   sensor_15   sensor_17  \\\n",
       "count  260.000000  ...   260.000000   260.000000  260.000000  260.000000   \n",
       "mean   255.637115  ...  2364.920731  8105.652538    9.288340  349.815385   \n",
       "std    153.443600  ...    89.267941    74.714146    0.584163   25.629762   \n",
       "min    136.990000  ...  2027.610000  7850.960000    8.486100  309.000000   \n",
       "25%    138.277500  ...  2387.970000  8081.580000    8.753125  334.000000   \n",
       "50%    139.165000  ...  2388.320000  8116.755000    9.414700  335.000000   \n",
       "75%    392.595000  ...  2388.752500  8148.730000    9.456725  372.000000   \n",
       "max    551.980000  ...  2390.390000  8252.610000   11.045400  398.000000   \n",
       "\n",
       "         sensor_18   sensor_19   sensor_20   sensor_21   max_cycle      status  \n",
       "count   260.000000  260.000000  260.000000  260.000000  260.000000  260.000000  \n",
       "mean   2242.073077   99.014654   18.644115   11.185072  206.765385    0.523077  \n",
       "std     108.889934    3.732538   10.443101    6.261529   46.782198    0.500430  \n",
       "min    1915.000000   84.930000   10.270000    6.164800  128.000000    0.000000  \n",
       "25%    2212.000000  100.000000   10.470000    6.283750  174.000000    0.000000  \n",
       "50%    2212.000000  100.000000   10.685000    6.390250  199.000000    1.000000  \n",
       "75%    2319.000000  100.000000   28.210000   16.925775  230.250000    1.000000  \n",
       "max    2388.000000  100.000000   38.680000   23.153900  378.000000    1.000000  \n",
       "\n",
       "[8 rows x 25 columns]"
      ]
     },
     "execution_count": 11,
     "metadata": {},
     "output_type": "execute_result"
    }
   ],
   "source": [
    "# Melihat deskriptif statistik dari data numerik\n",
    "descriptive_stats = turbofan_df.describe()\n",
    "descriptive_stats"
   ]
  },
  {
   "cell_type": "code",
   "execution_count": 12,
   "id": "45658521",
   "metadata": {},
   "outputs": [
    {
     "data": {
      "image/png": "[encoded data removed]",
      "text/plain": [
       "<Figure size 1200x600 with 1 Axes>"
      ]
     },
     "metadata": {},
     "output_type": "display_data"
    }
   ],
   "source": [
    "plt.figure(figsize=(12, 6))\n",
    "sns.histplot(turbofan_df['max_cycle'], kde=True, color='green')\n",
    "plt.title('max_cycle')\n",
    "plt.show()"
   ]
  },
  {
   "cell_type": "code",
   "execution_count": 13,
   "id": "7f28dd99",
   "metadata": {},
   "outputs": [
    {
     "data": {
      "image/png": "[encoded data removed]",
      "text/plain": [
       "<Figure size 1500x800 with 2 Axes>"
      ]
     },
     "metadata": {},
     "output_type": "display_data"
    }
   ],
   "source": [
    "# Visualisasi boxplot untuk setiap sensor dan pengaturan operasi\n",
    "operation_columns = ['operational_setting_1', 'operational_setting_2', 'operational_setting_3']\n",
    "sensor_columns = [f'sensor_{i:02}' for i in range(1, 22)]\n",
    "\n",
    "plt.figure(figsize=(15, 8))\n",
    "\n",
    "# Boxplot untuk pengaturan operasi\n",
    "plt.subplot(2, 1, 1)\n",
    "sns.boxplot(data=turbofan_df[operation_columns])\n",
    "plt.title('Boxplot untuk Pengaturan Operasi')\n",
    "plt.ylabel('Nilai')\n",
    "\n",
    "# Boxplot untuk sensor\n",
    "plt.subplot(2, 1, 2)\n",
    "sns.boxplot(data=turbofan_df[sensor_columns])\n",
    "plt.title('Boxplot untuk Sensor')\n",
    "plt.ylabel('Nilai')\n",
    "\n",
    "plt.tight_layout()\n",
    "plt.show()\n"
   ]
  },
  {
   "cell_type": "code",
   "execution_count": 14,
   "id": "1b7e7b9f",
   "metadata": {},
   "outputs": [
    {
     "name": "stderr",
     "output_type": "stream",
     "text": [
      "C:\\Users\\ASUS\\AppData\\Local\\Temp\\ipykernel_49332\\1955596486.py:3: FutureWarning: \n",
      "\n",
      "Passing `palette` without assigning `hue` is deprecated and will be removed in v0.14.0. Assign the `x` variable to `hue` and set `legend=False` for the same effect.\n",
      "\n",
      "  sns.countplot(x='status', data=turbofan_df, palette='pastel')\n"
     ]
    },
    {
     "data": {
      "image/png": "[encoded data removed]",
      "text/plain": [
       "<Figure size 600x400 with 1 Axes>"
      ]
     },
     "metadata": {},
     "output_type": "display_data"
    }
   ],
   "source": [
    "# Visualisasi distribusi status\n",
    "plt.figure(figsize=(6, 4))\n",
    "sns.countplot(x='status', data=turbofan_df, palette='pastel')\n",
    "plt.title('Distribusi Status Mesin')\n",
    "plt.xlabel('Status')\n",
    "plt.ylabel('Jumlah')\n",
    "plt.show()"
   ]
  },
  {
   "cell_type": "code",
   "execution_count": 15,
   "id": "3ea21a16",
   "metadata": {},
   "outputs": [
    {
     "name": "stderr",
     "output_type": "stream",
     "text": [
      "C:\\Users\\ASUS\\AppData\\Local\\Temp\\ipykernel_49332\\2601144799.py:3: FutureWarning: \n",
      "\n",
      "Passing `palette` without assigning `hue` is deprecated and will be removed in v0.14.0. Assign the `x` variable to `hue` and set `legend=False` for the same effect.\n",
      "\n",
      "  sns.countplot(x='sensor_16', data=turbofan_df, palette='pastel')\n"
     ]
    },
    {
     "data": {
      "image/png": "[encoded data removed]",
      "text/plain": [
       "<Figure size 600x400 with 1 Axes>"
      ]
     },
     "metadata": {},
     "output_type": "display_data"
    }
   ],
   "source": [
    "# Visualisasi distribusi status\n",
    "plt.figure(figsize=(6, 4))\n",
    "sns.countplot(x='sensor_16', data=turbofan_df, palette='pastel')\n",
    "plt.title('Distribusi sensor_16')\n",
    "plt.xlabel('sensor_16')\n",
    "plt.ylabel('Jumlah')\n",
    "plt.show()\n"
   ]
  },
  {
   "cell_type": "markdown",
   "id": "8ed644e4",
   "metadata": {
    "papermill": {
     "duration": 0.018599,
     "end_time": "2022-07-27T09:50:54.604997",
     "exception": false,
     "start_time": "2022-07-27T09:50:54.586398",
     "status": "completed"
    },
    "tags": []
   },
   "source": [
    "## Pemilihan fitut"
   ]
  },
  {
   "cell_type": "markdown",
   "id": "4036a707",
   "metadata": {
    "papermill": {
     "duration": 0.018536,
     "end_time": "2022-07-27T09:50:54.642268",
     "exception": false,
     "start_time": "2022-07-27T09:50:54.623732",
     "status": "completed"
    },
    "tags": []
   },
   "source": [
    "1. **Setting 1 (Altitude)** - Numerik\n",
    "    \n",
    "    Altitude atau ketinggian mempengaruhi performa mesin. Mesin turbofan beroperasi dalam kondisi atmosfer yang berbeda pada berbagai ketinggian, yang dapat mempengaruhi efisiensi dan keausan mesin. Variabel ini relevan karena kondisi ketinggian dapat mempercepat kerusakan pada mesin.\n",
    "    \n",
    "2. **Setting 2 (Mach Number)** - Numerik\n",
    "    \n",
    "    Mach Number menggambarkan kecepatan pesawat relatif terhadap kecepatan suara. Pada kecepatan tinggi (Mach 1 atau lebih), mesin beroperasi dalam kondisi yang lebih ekstrem, yang dapat berhubungan langsung dengan keausan atau kerusakan komponen mesin. Oleh karena itu, variabel ini penting dalam model survival.\n",
    "    \n",
    "3. **Setting 3 (Sea-level Temperature)** - Kategorik\n",
    "    \n",
    "    Sea-level Temperature menggambarkan suhu di permukaan laut yang mempengaruhi kondisi atmosfer dan performa mesin. Suhu yang lebih tinggi atau lebih rendah dapat berdampak pada efisiensi mesin dan kerusakan. Variabel ini perlu diencode karena bersifat kategorik.\n",
    "    \n",
    "4. **Sensor 1 (T2)** - Numerik\n",
    "    \n",
    "    T2 adalah suhu pada inlet fan mesin, yang berperan penting dalam mendeteksi masalah pada mesin. Suhu yang tinggi pada bagian ini menunjukkan potensi masalah yang dapat mempercepat kerusakan mesin. Oleh karena itu, variabel ini relevan dalam analisis survival untuk mendeteksi kerusakan mesin lebih awal.\n",
    "    \n",
    "5. **Sensor 8 (Nf)** - Numerik\n",
    "    \n",
    "    Kecepatan fan (**Nf**) adalah indikator penting untuk memahami kondisi operasional mesin. Kecepatan fan yang rendah atau tinggi dapat menunjukkan masalah pada mesin, yang berhubungan dengan potensi kegagalan. Variabel ini memberikan informasi yang penting untuk model survival.\n",
    "    \n",
    "6. **Sensor 9 (Nc)** - Numerik\n",
    "    \n",
    "    Kecepatan inti (**Nc**) adalah parameter lain yang menggambarkan performa mesin. Kecepatan inti yang tidak stabil dapat menunjukkan masalah pada mesin dan menjadi tanda awal untuk prediksi kegagalan.\n",
    "    \n",
    "7. **Sensor 10 (epr)** - Numerik\n",
    "    \n",
    "    Engine Pressure Ratio (**epr**) mengukur efisiensi mesin dan menunjukkan apakah mesin bekerja dalam kondisi optimal. Penurunan rasio ini dapat menjadi indikasi bahwa mesin sedang mengalami penurunan performa yang dapat berujung pada kegagalan.\n",
    "    \n",
    "8. **Sensor 16 (farB)** - Kategorik\n",
    "    \n",
    "    **farB** atau Burner fuel-air ratio adalah rasio antara bahan bakar dan udara yang digunakan dalam proses pembakaran. Variabel ini hanya memiliki dua kondisi (misalnya, normal atau tidak normal) dan memengaruhi efisiensi pembakaran. Ketidakseimbangan dalam rasio ini dapat menyebabkan keausan atau kerusakan pada mesin, sehingga perlu diperlakukan sebagai variabel kategorik."
   ]
  },
  {
   "cell_type": "markdown",
   "id": "6ddefeef",
   "metadata": {
    "papermill": {
     "duration": 0.02695,
     "end_time": "2022-07-27T09:50:58.092460",
     "exception": false,
     "start_time": "2022-07-27T09:50:58.065510",
     "status": "completed"
    },
    "tags": []
   },
   "source": [
    "# Data Preparation for Modeling"
   ]
  },
  {
   "cell_type": "markdown",
   "id": "e92135f7",
   "metadata": {
    "papermill": {
     "duration": 0.026124,
     "end_time": "2022-07-27T09:50:58.147450",
     "exception": false,
     "start_time": "2022-07-27T09:50:58.121326",
     "status": "completed"
    },
    "tags": []
   },
   "source": [
    "Langkah selanjutnya adalah menyiapkan data untuk melakukan pemodelan. Hal yang perlu diperhatikan adalah:\n",
    "\n",
    "1. Untuk kolom dengan tipe kategori perlu dilakukan One Hot Encoding\n",
    "2. Untuk data target, perlu dituliskan dalam bentuk array dengan setiap elemennya adalah sebuah tuple yang terdiri dari status mesin (True/False) dan waktu/siklusnya"
   ]
  },
  {
   "cell_type": "code",
   "execution_count": 16,
   "id": "84b35bb8",
   "metadata": {},
   "outputs": [],
   "source": [
    "cleaned_data = turbofan_df[['cycle', 'status', 'operational_setting_1', 'operational_setting_2', 'operational_setting_3', \n",
    "                            'sensor_01', 'sensor_08', 'sensor_09', 'sensor_10', 'sensor_16']]"
   ]
  },
  {
   "cell_type": "code",
   "execution_count": 17,
   "id": "7c768537",
   "metadata": {
    "execution": {
     "iopub.execute_input": "2022-07-27T09:50:58.203973Z",
     "iopub.status.busy": "2022-07-27T09:50:58.203559Z",
     "iopub.status.idle": "2022-07-27T09:50:58.722271Z",
     "shell.execute_reply": "2022-07-27T09:50:58.721440Z"
    },
    "papermill": {
     "duration": 0.550387,
     "end_time": "2022-07-27T09:50:58.724683",
     "exception": false,
     "start_time": "2022-07-27T09:50:58.174296",
     "status": "completed"
    },
    "tags": []
   },
   "outputs": [
    {
     "data": {
      "text/html": [
       "<div>\n",
       "<style scoped>\n",
       "    .dataframe tbody tr th:only-of-type {\n",
       "        vertical-align: middle;\n",
       "    }\n",
       "\n",
       "    .dataframe tbody tr th {\n",
       "        vertical-align: top;\n",
       "    }\n",
       "\n",
       "    .dataframe thead th {\n",
       "        text-align: right;\n",
       "    }\n",
       "</style>\n",
       "<table border=\"1\" class=\"dataframe\">\n",
       "  <thead>\n",
       "    <tr style=\"text-align: right;\">\n",
       "      <th></th>\n",
       "      <th>cycle</th>\n",
       "      <th>status</th>\n",
       "      <th>operational_setting_1</th>\n",
       "      <th>operational_setting_2</th>\n",
       "      <th>sensor_01</th>\n",
       "      <th>sensor_08</th>\n",
       "      <th>sensor_09</th>\n",
       "      <th>sensor_10</th>\n",
       "      <th>operational_setting_3=100.0</th>\n",
       "      <th>sensor_16=0.03</th>\n",
       "    </tr>\n",
       "    <tr>\n",
       "      <th>machine_id</th>\n",
       "      <th></th>\n",
       "      <th></th>\n",
       "      <th></th>\n",
       "      <th></th>\n",
       "      <th></th>\n",
       "      <th></th>\n",
       "      <th></th>\n",
       "      <th></th>\n",
       "      <th></th>\n",
       "      <th></th>\n",
       "    </tr>\n",
       "  </thead>\n",
       "  <tbody>\n",
       "    <tr>\n",
       "      <th>1</th>\n",
       "      <td>149</td>\n",
       "      <td>1</td>\n",
       "      <td>42.0017</td>\n",
       "      <td>0.8414</td>\n",
       "      <td>445.00</td>\n",
       "      <td>2211.38</td>\n",
       "      <td>8307.72</td>\n",
       "      <td>1.02</td>\n",
       "      <td>1.0</td>\n",
       "      <td>0.0</td>\n",
       "    </tr>\n",
       "    <tr>\n",
       "      <th>2</th>\n",
       "      <td>269</td>\n",
       "      <td>0</td>\n",
       "      <td>42.0047</td>\n",
       "      <td>0.8411</td>\n",
       "      <td>445.00</td>\n",
       "      <td>2212.32</td>\n",
       "      <td>8358.80</td>\n",
       "      <td>1.02</td>\n",
       "      <td>1.0</td>\n",
       "      <td>0.0</td>\n",
       "    </tr>\n",
       "    <tr>\n",
       "      <th>3</th>\n",
       "      <td>206</td>\n",
       "      <td>0</td>\n",
       "      <td>42.0073</td>\n",
       "      <td>0.8400</td>\n",
       "      <td>445.00</td>\n",
       "      <td>2211.81</td>\n",
       "      <td>8329.26</td>\n",
       "      <td>1.02</td>\n",
       "      <td>1.0</td>\n",
       "      <td>0.0</td>\n",
       "    </tr>\n",
       "    <tr>\n",
       "      <th>4</th>\n",
       "      <td>235</td>\n",
       "      <td>0</td>\n",
       "      <td>0.0030</td>\n",
       "      <td>0.0007</td>\n",
       "      <td>518.67</td>\n",
       "      <td>2388.17</td>\n",
       "      <td>9150.14</td>\n",
       "      <td>1.30</td>\n",
       "      <td>1.0</td>\n",
       "      <td>1.0</td>\n",
       "    </tr>\n",
       "    <tr>\n",
       "      <th>5</th>\n",
       "      <td>154</td>\n",
       "      <td>1</td>\n",
       "      <td>42.0049</td>\n",
       "      <td>0.8408</td>\n",
       "      <td>445.00</td>\n",
       "      <td>2212.99</td>\n",
       "      <td>8397.52</td>\n",
       "      <td>1.02</td>\n",
       "      <td>1.0</td>\n",
       "      <td>0.0</td>\n",
       "    </tr>\n",
       "  </tbody>\n",
       "</table>\n",
       "</div>"
      ],
      "text/plain": [
       "            cycle  status  operational_setting_1  operational_setting_2  \\\n",
       "machine_id                                                                \n",
       "1             149       1                42.0017                 0.8414   \n",
       "2             269       0                42.0047                 0.8411   \n",
       "3             206       0                42.0073                 0.8400   \n",
       "4             235       0                 0.0030                 0.0007   \n",
       "5             154       1                42.0049                 0.8408   \n",
       "\n",
       "            sensor_01  sensor_08  sensor_09  sensor_10  \\\n",
       "machine_id                                               \n",
       "1              445.00    2211.38    8307.72       1.02   \n",
       "2              445.00    2212.32    8358.80       1.02   \n",
       "3              445.00    2211.81    8329.26       1.02   \n",
       "4              518.67    2388.17    9150.14       1.30   \n",
       "5              445.00    2212.99    8397.52       1.02   \n",
       "\n",
       "            operational_setting_3=100.0  sensor_16=0.03  \n",
       "machine_id                                               \n",
       "1                                   1.0             0.0  \n",
       "2                                   1.0             0.0  \n",
       "3                                   1.0             0.0  \n",
       "4                                   1.0             1.0  \n",
       "5                                   1.0             0.0  "
      ]
     },
     "execution_count": 17,
     "metadata": {},
     "output_type": "execute_result"
    }
   ],
   "source": [
    "# One Hot Encoding for Categorical Variable\n",
    "from sksurv.preprocessing import OneHotEncoder\n",
    "\n",
    "# Pilih variabel kategorik untuk encoding (operational_setting_3 dan sensor_16)\n",
    "categorical_columns = ['operational_setting_3', 'sensor_16']\n",
    "\n",
    "# Terapkan OneHotEncoder hanya pada kolom kategorik\n",
    "encoder = OneHotEncoder()\n",
    "data_x = encoder.fit_transform(cleaned_data[categorical_columns])\n",
    "\n",
    "# Gabungkan hasil encoding dengan kolom numerik lainnya\n",
    "numerical_columns = ['cycle', 'status', 'operational_setting_1', 'operational_setting_2', \n",
    "                     'sensor_01', 'sensor_08', 'sensor_09', 'sensor_10']\n",
    "data_x = pd.concat([cleaned_data[numerical_columns], pd.DataFrame(data_x, columns=encoder.get_feature_names_out())], axis=1)\n",
    "\n",
    "# Tampilkan beberapa baris pertama untuk memeriksa\n",
    "data_x.head()"
   ]
  },
  {
   "cell_type": "code",
   "execution_count": 18,
   "id": "a54a20b9",
   "metadata": {
    "execution": {
     "iopub.execute_input": "2022-07-27T09:50:58.785251Z",
     "iopub.status.busy": "2022-07-27T09:50:58.784821Z",
     "iopub.status.idle": "2022-07-27T09:50:58.797427Z",
     "shell.execute_reply": "2022-07-27T09:50:58.796102Z"
    },
    "papermill": {
     "duration": 0.045209,
     "end_time": "2022-07-27T09:50:58.800483",
     "exception": false,
     "start_time": "2022-07-27T09:50:58.755274",
     "status": "completed"
    },
    "tags": []
   },
   "outputs": [
    {
     "data": {
      "text/plain": [
       "array([( True, 149.), (False, 269.), (False, 206.), (False, 235.),\n",
       "       ( True, 154.)], dtype=[('status', '?'), ('cycle', '<f8')])"
      ]
     },
     "execution_count": 18,
     "metadata": {},
     "output_type": "execute_result"
    }
   ],
   "source": [
    "# Preprocessing for target variable\n",
    "data_y = list(cleaned_data.loc[:, [\"status\", \"cycle\"]].itertuples(index = None, name = None))\n",
    "data_y = np.array(data_y, dtype=[('status', bool), ('cycle', float)])\n",
    "data_y[:5]"
   ]
  },
  {
   "cell_type": "markdown",
   "id": "c8c2be85",
   "metadata": {
    "papermill": {
     "duration": 0.026354,
     "end_time": "2022-07-27T09:50:58.854349",
     "exception": false,
     "start_time": "2022-07-27T09:50:58.827995",
     "status": "completed"
    },
    "tags": []
   },
   "source": [
    "# Kaplan Meier Estimator"
   ]
  },
  {
   "cell_type": "markdown",
   "id": "6c93bc12",
   "metadata": {
    "papermill": {
     "duration": 0.029296,
     "end_time": "2022-07-27T09:50:58.912176",
     "exception": false,
     "start_time": "2022-07-27T09:50:58.882880",
     "status": "completed"
    },
    "tags": []
   },
   "source": [
    "Dari data yang telah kita miliki di atas maka kita dapat membangun fungsi survival **Kaplan Meier Estimator**. Kaplan Meier Estimator dibangun dengan menghitung peluang observasi yang survive (tidak mengalami kejadian) pada setiap waktu. Secara matematis, Kaplan Meier Estimator dapat dituliskan sebagai berikut:\n",
    "$$\n",
    "S(t) = \\prod_{j=1}^{t} \\frac{n_j - d_j}{n_j} \n",
    "$$\n",
    "dengan $n_j$ adalah banyaknya subject saat waktu $j$ dan $d_j$ adalah banyaknya subject yang mengalami kejadian.\n",
    "\n",
    "Sebagai ilustrasi, misalkan kita memiliki data berikut\n",
    "\n",
    "| ID | Waktu | Event |\n",
    "| --- | --- | --- |\n",
    "| 1 | 6 | 1 |\n",
    "| 2 | 40 | 0 |\n",
    "| 3 | 21 | 1 |\n",
    "| 4 | 14 | 1 |\n",
    "| 5 | 40 | 0 |\n",
    "\n",
    "Maka,\n",
    "1. Untuk waktu $0 \\leq t < 6$, terdapat 5 observasi dan tidak terdapat observasi yang mengalami event. Maka\n",
    "$$S(t) = \\frac{5-0}{5} = 1 $$\n",
    "2. Untuk waktu $6 \\leq t < 14$ terdapat 5 observasi dan satu diantaranya mengalami event. Maka\n",
    "$$S(t) = 1 * \\frac{5-1}{5} = \\frac{4}{5} = 0.8$$\n",
    "3. Untuk waktu $14 \\leq t < 21$ terdapat 4 observasi dan satu diantaranya mengalami event. Maka\n",
    "$$S(t) = 1 * \\frac{4}{5} * \\frac{4-1}{4} = \\frac{3}{5} = 0.6$$\n",
    "4. Untuk waktu $21 \\leq t < 40$ terdapat 3 observasi dan satu diantaranya mengalami event. Maka\n",
    "$$S(t) = 1 * \\frac{4}{5} * \\frac{4-1}{4} * \\frac{3-1}{3} = \\frac{2}{5} = 0.4$$\n",
    "5. Untuk waktu $t \\geq 40$ tersisa 2 observasi dan tidak terdapat observasi yang mengalami event. Maka\n",
    "$$S(t) = 1 * \\frac{4}{5} * \\frac{4-1}{4} * \\frac{3-1}{3} * \\frac{2-0}{2} = 0.4$$"
   ]
  },
  {
   "cell_type": "markdown",
   "id": "84c2517c",
   "metadata": {
    "papermill": {
     "duration": 0.027094,
     "end_time": "2022-07-27T09:50:58.969124",
     "exception": false,
     "start_time": "2022-07-27T09:50:58.942030",
     "status": "completed"
    },
    "tags": []
   },
   "source": [
    "Berikut adalah cara untuk membangun fungsi survival menggunakan Kaplan Meier Estimator menggunakan package `sksurv`"
   ]
  },
  {
   "cell_type": "markdown",
   "id": "cccdeb71",
   "metadata": {
    "papermill": {
     "duration": 0.026268,
     "end_time": "2022-07-27T09:50:59.580330",
     "exception": false,
     "start_time": "2022-07-27T09:50:59.554062",
     "status": "completed"
    },
    "tags": []
   },
   "source": [
    "**Interpretasi:**\n",
    "\n",
    "1. Hingga saat $t=125$ nilai $S(t)=1$ yang menunjukkan bahwa semua mesin tetap hidup hingga siklus ke-125\n",
    "2. Saat $t=175$ nilai $S(t)$ berada di sekitar 0.75 menunjukkan bahwa setelah terdapat sekitar 75% mesin tetap hidup hingga siklus ke 175\n",
    "3. Peluang mesin tetap hidup menjadi 50% setelah siklus ke-190"
   ]
  },
  {
   "cell_type": "code",
   "execution_count": 19,
   "id": "ca20ac82",
   "metadata": {},
   "outputs": [
    {
     "data": {
      "image/png": "[encoded data removed]",
      "text/plain": [
       "<Figure size 1000x600 with 1 Axes>"
      ]
     },
     "metadata": {},
     "output_type": "display_data"
    }
   ],
   "source": [
    "from lifelines import KaplanMeierFitter\n",
    "import matplotlib.pyplot as plt\n",
    "import numpy as np\n",
    "\n",
    "# Membuat dan menyesuaikan Kaplan-Meier\n",
    "kmf = KaplanMeierFitter()\n",
    "kmf.fit(durations=turbofan_df['max_cycle'], event_observed=turbofan_df['status'])\n",
    "\n",
    "# Plot Kaplan-Meier Survival Function\n",
    "plt.figure(figsize=(10, 6))\n",
    "kmf.plot_survival_function()\n",
    "\n",
    "# Menyesuaikan timeline axis X untuk interval 25 siklus, dengan batas sampai sedikit lebih dari 200\n",
    "plt.xticks(range(0, 225, 25))\n",
    "plt.xlim(0, 220)\n",
    "\n",
    "# Interpolasi untuk menentukan nilai survival probability pada cutting score\n",
    "cutting_score = 200\n",
    "survival_at_cutting = np.interp(cutting_score, kmf.survival_function_.index, kmf.survival_function_[\"KM_estimate\"])\n",
    "\n",
    "# Membatasi garis vertikal dan horizontal hanya sampai kurva\n",
    "plt.plot([cutting_score, cutting_score], [0, survival_at_cutting], color='blue', linestyle='--', label=f\"Cutting Score = {cutting_score}\")\n",
    "plt.plot([0, cutting_score], [survival_at_cutting, survival_at_cutting], color='red', linestyle='--', label=f\"Survival = {survival_at_cutting:.2f}\")\n",
    "\n",
    "\n",
    "# Menambahkan judul, label, dan legend\n",
    "plt.title(\"Kaplan-Meier Survival Function - Turbofan\")\n",
    "plt.xlabel(\"Cycle\")\n",
    "plt.ylabel(\"Survival Probability\")\n",
    "plt.grid(True, which=\"both\", linestyle='--', linewidth=0.5, alpha=0.7)\n",
    "plt.legend(loc=\"best\")\n",
    "\n",
    "# Menampilkan plot\n",
    "plt.show()\n"
   ]
  },
  {
   "cell_type": "markdown",
   "id": "16bc5078",
   "metadata": {
    "papermill": {
     "duration": 0.026729,
     "end_time": "2022-07-27T09:50:59.634022",
     "exception": false,
     "start_time": "2022-07-27T09:50:59.607293",
     "status": "completed"
    },
    "tags": []
   },
   "source": [
    "## Compare Survival Time for Each Category in Every Categorical Columns"
   ]
  },
  {
   "cell_type": "markdown",
   "id": "376298d6",
   "metadata": {
    "papermill": {
     "duration": 0.026703,
     "end_time": "2022-07-27T09:50:59.687463",
     "exception": false,
     "start_time": "2022-07-27T09:50:59.660760",
     "status": "completed"
    },
    "tags": []
   },
   "source": [
    "Kita telah mempelajari bagaimana membangun fungsi survival menggunakan Kaplan Meier Estimator. Terkadang kita ingin melakukan perbandingan apakah adanya perbedaan kategori/perlakuan akan memengaruhi kesintasan subjek yang kita amati.\n",
    "\n",
    "Misalkan, pada data `cleaned_data` kita memiliki dua buah kolom yang memiliki tipe kategori yaitu `operational_setting_3` dan `sensor_16`. Mari kita periksa banyaknya nilai unik pada kedua kolom tersebut\n",
    "\n",
    "In this section, we will compare the distribution of survival time for each category in every categorical columns. From the distribution we hope that we can determined if there is a difference distribution for each category or not."
   ]
  },
  {
   "cell_type": "code",
   "execution_count": 20,
   "id": "983fc862",
   "metadata": {
    "execution": {
     "iopub.execute_input": "2022-07-27T09:50:59.745755Z",
     "iopub.status.busy": "2022-07-27T09:50:59.744531Z",
     "iopub.status.idle": "2022-07-27T09:50:59.753184Z",
     "shell.execute_reply": "2022-07-27T09:50:59.751983Z"
    },
    "papermill": {
     "duration": 0.041062,
     "end_time": "2022-07-27T09:50:59.756417",
     "exception": false,
     "start_time": "2022-07-27T09:50:59.715355",
     "status": "completed"
    },
    "tags": []
   },
   "outputs": [
    {
     "name": "stdout",
     "output_type": "stream",
     "text": [
      "Nilai unik operational_setting_3: [100.0, 60.0]\n",
      "Nilai unik sensor_16: [0.02, 0.03]\n"
     ]
    }
   ],
   "source": [
    "os3_unique = list(cleaned_data['operational_setting_3'].unique())\n",
    "sm16_unique = list(cleaned_data['sensor_16'].unique())\n",
    "print(f'Nilai unik operational_setting_3: {os3_unique}')\n",
    "print(f'Nilai unik sensor_16: {sm16_unique}')"
   ]
  },
  {
   "cell_type": "markdown",
   "id": "442720c1",
   "metadata": {
    "papermill": {
     "duration": 0.028937,
     "end_time": "2022-07-27T09:50:59.814158",
     "exception": false,
     "start_time": "2022-07-27T09:50:59.785221",
     "status": "completed"
    },
    "tags": []
   },
   "source": [
    "Sekarang kita akan melakukan perbandingan distribusi fungsi survival antara nilai 100 dan 60 pada kolom `operational_setting_3`"
   ]
  },
  {
   "cell_type": "code",
   "execution_count": 21,
   "id": "cb84ff81",
   "metadata": {
    "execution": {
     "iopub.execute_input": "2022-07-27T09:50:59.873238Z",
     "iopub.status.busy": "2022-07-27T09:50:59.872841Z",
     "iopub.status.idle": "2022-07-27T09:51:00.190288Z",
     "shell.execute_reply": "2022-07-27T09:51:00.189160Z"
    },
    "papermill": {
     "duration": 0.350457,
     "end_time": "2022-07-27T09:51:00.193119",
     "exception": false,
     "start_time": "2022-07-27T09:50:59.842662",
     "status": "completed"
    },
    "tags": []
   },
   "outputs": [
    {
     "name": "stderr",
     "output_type": "stream",
     "text": [
      "<>:11: SyntaxWarning: invalid escape sequence '\\h'\n",
      "<>:11: SyntaxWarning: invalid escape sequence '\\h'\n",
      "C:\\Users\\ASUS\\AppData\\Local\\Temp\\ipykernel_49332\\10580014.py:11: SyntaxWarning: invalid escape sequence '\\h'\n",
      "  plt.ylabel(\"est. probability of survival $\\hat{S}(t)$\")\n",
      "C:\\Users\\ASUS\\AppData\\Local\\Temp\\ipykernel_49332\\10580014.py:2: SettingWithCopyWarning: \n",
      "A value is trying to be set on a copy of a slice from a DataFrame.\n",
      "Try using .loc[row_indexer,col_indexer] = value instead\n",
      "\n",
      "See the caveats in the documentation: https://pandas.pydata.org/pandas-docs/stable/user_guide/indexing.html#returning-a-view-versus-a-copy\n",
      "  cleaned_data['status'] = cleaned_data['status'].astype(bool)\n"
     ]
    },
    {
     "data": {
      "image/png": "[encoded data removed]",
      "text/plain": [
       "<Figure size 1600x900 with 1 Axes>"
      ]
     },
     "metadata": {},
     "output_type": "display_data"
    }
   ],
   "source": [
    "from sksurv.nonparametric import kaplan_meier_estimator\n",
    "cleaned_data['status'] = cleaned_data['status'].astype(bool)\n",
    "\n",
    "for category in cleaned_data['operational_setting_3'].unique():\n",
    "    category_df = cleaned_data[cleaned_data['operational_setting_3'] == category]\n",
    "    time_treatment, survival_prob_treatment = kaplan_meier_estimator(category_df['status'],\n",
    "                                                                     category_df['cycle'])\n",
    "    time_treatment , survival_prob_treatment = np.append(0, time_treatment), np.append(1, survival_prob_treatment)\n",
    "    plt.step(time_treatment, survival_prob_treatment, where = \"post\", label = category)\n",
    "\n",
    "plt.ylabel(\"est. probability of survival $\\hat{S}(t)$\")\n",
    "plt.xlabel(\"time $t$\")\n",
    "plt.title(f\"Keplen Meier Estimator for each Category of Operational Setting 3\")\n",
    "plt.legend(loc=\"best\")\n",
    "plt.xlim(left = 0, right = 220)\n",
    "plt.show()"
   ]
  },
  {
   "cell_type": "markdown",
   "id": "74da8a20",
   "metadata": {
    "papermill": {
     "duration": 0.026926,
     "end_time": "2022-07-27T09:51:00.247482",
     "exception": false,
     "start_time": "2022-07-27T09:51:00.220556",
     "status": "completed"
    },
    "tags": []
   },
   "source": [
    "> **Interpretasi**: Berdasarkan visualisasi di atas, dapat kita lihat bahwa nilai `operational_setting_3 = 100` cenderung memiliki nilai fungsi survival yang lebih tinggi dibandingkan `operational_setting_3 = 60` yang menunjukkan bahwa `operational_setting_3 = 100` lebih tahan lama dibandingkan `operational_setting_3 = 60`"
   ]
  },
  {
   "cell_type": "code",
   "execution_count": 22,
   "id": "a82a341a",
   "metadata": {},
   "outputs": [
    {
     "name": "stdout",
     "output_type": "stream",
     "text": [
      "Log-Rank Test result for operational_setting_3: 100.0 vs 60.0\n",
      "<lifelines.StatisticalResult: logrank_test>\n",
      "               t_0 = -1\n",
      " null_distribution = chi squared\n",
      "degrees_of_freedom = 1\n",
      "         test_name = logrank_test\n",
      "\n",
      "---\n",
      " test_statistic    p  -log2(p)\n",
      "           6.72 0.01      6.71\n"
     ]
    }
   ],
   "source": [
    "from lifelines.statistics import logrank_test\n",
    "\n",
    "# Filter data untuk kedua kategori\n",
    "group1 = cleaned_data[cleaned_data['operational_setting_3'] == 100.0]\n",
    "group2 = cleaned_data[cleaned_data['operational_setting_3'] == 60.0]\n",
    "\n",
    "# Uji log-rank\n",
    "results = logrank_test(group1['cycle'], group2['cycle'], event_observed_A=group1['status'], event_observed_B=group2['status'])\n",
    "\n",
    "# Menampilkan hasil uji log-rank\n",
    "print(f\"Log-Rank Test result for operational_setting_3: 100.0 vs 60.0\")\n",
    "print(results)\n"
   ]
  },
  {
   "cell_type": "markdown",
   "id": "bd4adcd5",
   "metadata": {
    "papermill": {
     "duration": 0.026908,
     "end_time": "2022-07-27T09:51:00.301863",
     "exception": false,
     "start_time": "2022-07-27T09:51:00.274955",
     "status": "completed"
    },
    "tags": []
   },
   "source": [
    "Hal yang sama kita lakukan untuk kolom `sensor_16`"
   ]
  },
  {
   "cell_type": "code",
   "execution_count": 23,
   "id": "4dadd684",
   "metadata": {
    "execution": {
     "iopub.execute_input": "2022-07-27T09:51:00.358513Z",
     "iopub.status.busy": "2022-07-27T09:51:00.358158Z",
     "iopub.status.idle": "2022-07-27T09:51:00.665768Z",
     "shell.execute_reply": "2022-07-27T09:51:00.664696Z"
    },
    "papermill": {
     "duration": 0.338871,
     "end_time": "2022-07-27T09:51:00.668309",
     "exception": false,
     "start_time": "2022-07-27T09:51:00.329438",
     "status": "completed"
    },
    "tags": []
   },
   "outputs": [
    {
     "name": "stderr",
     "output_type": "stream",
     "text": [
      "<>:8: SyntaxWarning: invalid escape sequence '\\h'\n",
      "<>:8: SyntaxWarning: invalid escape sequence '\\h'\n",
      "C:\\Users\\ASUS\\AppData\\Local\\Temp\\ipykernel_49332\\404113194.py:8: SyntaxWarning: invalid escape sequence '\\h'\n",
      "  plt.ylabel(\"est. probability of survival $\\hat{S}(t)$\")\n"
     ]
    },
    {
     "data": {
      "image/png": "[encoded data removed]",
      "text/plain": [
       "<Figure size 1600x900 with 1 Axes>"
      ]
     },
     "metadata": {},
     "output_type": "display_data"
    }
   ],
   "source": [
    "for category in cleaned_data['sensor_16'].unique():\n",
    "    category_df = cleaned_data[cleaned_data['sensor_16'] == category]\n",
    "    time_treatment, survival_prob_treatment = kaplan_meier_estimator(category_df['status'],\n",
    "                                                                     category_df['cycle'])\n",
    "    time_treatment , survival_prob_treatment = np.append(0, time_treatment), np.append(1, survival_prob_treatment)\n",
    "    plt.step(time_treatment, survival_prob_treatment, where = \"post\", label = category)\n",
    "\n",
    "plt.ylabel(\"est. probability of survival $\\hat{S}(t)$\")\n",
    "plt.xlabel(\"time $t$\")\n",
    "plt.title(f\"Keplen Meier Estimator for each Category of Sensor Measurement 16\")\n",
    "plt.legend(loc=\"best\")\n",
    "plt.xlim(left = 0, right = 220)\n",
    "plt.show()"
   ]
  },
  {
   "cell_type": "markdown",
   "id": "c439bfe7",
   "metadata": {
    "papermill": {
     "duration": 0.029432,
     "end_time": "2022-07-27T09:51:00.727439",
     "exception": false,
     "start_time": "2022-07-27T09:51:00.698007",
     "status": "completed"
    },
    "tags": []
   },
   "source": [
    "> **Interpretasi**: Berdasarkan visualisasi di atas, dapat kita lihat bahwa nilai `sensor_16 = 0.02` cenderung memiliki nilai fungsi survival yang lebih tinggi dibandingkan `sensor_16 = 0.03` (walaupun tidak berbeda jauh secara signifikan) yang menunjukkan bahwa `sensor_16 = 0.02` lebih tahan lama dibandingkan `sensor_16 = 0.03`"
   ]
  },
  {
   "cell_type": "code",
   "execution_count": 24,
   "id": "0689f02a",
   "metadata": {},
   "outputs": [
    {
     "name": "stdout",
     "output_type": "stream",
     "text": [
      "Log-Rank Test result for sensor_16: 0.02 vs 0.03\n",
      "<lifelines.StatisticalResult: logrank_test>\n",
      "               t_0 = -1\n",
      " null_distribution = chi squared\n",
      "degrees_of_freedom = 1\n",
      "         test_name = logrank_test\n",
      "\n",
      "---\n",
      " test_statistic    p  -log2(p)\n",
      "           3.10 0.08      3.68\n"
     ]
    }
   ],
   "source": [
    "from lifelines.statistics import logrank_test\n",
    "\n",
    "# Membuat subset data untuk setiap kategori sensor_16\n",
    "group_1 = cleaned_data[cleaned_data['sensor_16'] == 0.02]\n",
    "group_2 = cleaned_data[cleaned_data['sensor_16'] == 0.03]\n",
    "\n",
    "# Menghitung log-rank test antara dua grup\n",
    "result = logrank_test(group_1['cycle'], group_2['cycle'], event_observed_A=group_1['status'], event_observed_B=group_2['status'])\n",
    "\n",
    "# Menampilkan hasil Log-Rank Test\n",
    "print(\"Log-Rank Test result for sensor_16: 0.02 vs 0.03\")\n",
    "print(result)\n"
   ]
  },
  {
   "cell_type": "markdown",
   "id": "b90a10b7",
   "metadata": {
    "papermill": {
     "duration": 0.02975,
     "end_time": "2022-07-27T09:51:00.786735",
     "exception": false,
     "start_time": "2022-07-27T09:51:00.756985",
     "status": "completed"
    },
    "tags": []
   },
   "source": [
    "# Log-Rank Test"
   ]
  },
  {
   "cell_type": "markdown",
   "id": "0a9d88e8",
   "metadata": {
    "papermill": {
     "duration": 0.028754,
     "end_time": "2022-07-27T09:51:00.844536",
     "exception": false,
     "start_time": "2022-07-27T09:51:00.815782",
     "status": "completed"
    },
    "tags": []
   },
   "source": [
    "Pada bagian sebelumnya, kita telah melakukan perbandingan distribusi fungsi survival melalui visualisasi. Namun terkadang kita memerlukan uji statistik lebih lanjut untuk memastikan apakah kedua distribusi tersebut dapat dikatakan sama atau berbeda secara signifikan. Untuk melakukan pengujian tersebut, kita dapat menggunakan **Log-Rank Test** dengan hipotesis\n",
    "\n",
    "$H_{0}$ : Distribusi kedua fungsi survival sama\n",
    "\n",
    "$H_{1}$ : Distribusi kedua fungsi survival berbeda\n"
   ]
  },
  {
   "cell_type": "code",
   "execution_count": 25,
   "id": "2e8fda33",
   "metadata": {
    "execution": {
     "iopub.execute_input": "2022-07-27T09:51:00.905672Z",
     "iopub.status.busy": "2022-07-27T09:51:00.904492Z",
     "iopub.status.idle": "2022-07-27T09:51:00.931713Z",
     "shell.execute_reply": "2022-07-27T09:51:00.930884Z"
    },
    "papermill": {
     "duration": 0.060381,
     "end_time": "2022-07-27T09:51:00.933797",
     "exception": false,
     "start_time": "2022-07-27T09:51:00.873416",
     "status": "completed"
    },
    "tags": []
   },
   "outputs": [
    {
     "data": {
      "text/html": [
       "<div>\n",
       "<style scoped>\n",
       "    .dataframe tbody tr th:only-of-type {\n",
       "        vertical-align: middle;\n",
       "    }\n",
       "\n",
       "    .dataframe tbody tr th {\n",
       "        vertical-align: top;\n",
       "    }\n",
       "\n",
       "    .dataframe thead th {\n",
       "        text-align: right;\n",
       "    }\n",
       "</style>\n",
       "<table border=\"1\" class=\"dataframe\">\n",
       "  <thead>\n",
       "    <tr style=\"text-align: right;\">\n",
       "      <th></th>\n",
       "      <th>p-value</th>\n",
       "      <th>conclusion</th>\n",
       "    </tr>\n",
       "    <tr>\n",
       "      <th>columns</th>\n",
       "      <th></th>\n",
       "      <th></th>\n",
       "    </tr>\n",
       "  </thead>\n",
       "  <tbody>\n",
       "    <tr>\n",
       "      <th>operational_setting_3</th>\n",
       "      <td>0.009559</td>\n",
       "      <td>significant</td>\n",
       "    </tr>\n",
       "    <tr>\n",
       "      <th>sensor_16</th>\n",
       "      <td>0.078070</td>\n",
       "      <td>not significant</td>\n",
       "    </tr>\n",
       "  </tbody>\n",
       "</table>\n",
       "</div>"
      ],
      "text/plain": [
       "                        p-value       conclusion\n",
       "columns                                         \n",
       "operational_setting_3  0.009559      significant\n",
       "sensor_16              0.078070  not significant"
      ]
     },
     "execution_count": 25,
     "metadata": {},
     "output_type": "execute_result"
    }
   ],
   "source": [
    "from sksurv.compare import compare_survival\n",
    "\n",
    "p_value_list = []\n",
    "for column in category_columns:\n",
    "    p_value = compare_survival(data_y, turbofan_df[column])[1]\n",
    "    p_value_list.append(p_value)\n",
    "    \n",
    "result = pd.DataFrame({'columns': category_columns, 'p-value': p_value_list}).set_index('columns')\n",
    "result['conclusion'] = result['p-value'].apply(lambda x: \"significant\" if x < 0.05 else \"not significant\")\n",
    "result"
   ]
  },
  {
   "cell_type": "markdown",
   "id": "9974204f",
   "metadata": {
    "papermill": {
     "duration": 0.027337,
     "end_time": "2022-07-27T09:51:00.989598",
     "exception": false,
     "start_time": "2022-07-27T09:51:00.962261",
     "status": "completed"
    },
    "tags": []
   },
   "source": [
    "> **Kesimpulan** : Untuk kolom `operational_setting_3` terdapat perbedaan distribusi fungsi survival pada setiap kategorinya sedangkan untuk kolom `sensor_16` tidak terdapat perbedaan yang signifikan"
   ]
  },
  {
   "cell_type": "markdown",
   "id": "92e2d4ed",
   "metadata": {
    "papermill": {
     "duration": 0.028381,
     "end_time": "2022-07-27T09:51:01.045448",
     "exception": false,
     "start_time": "2022-07-27T09:51:01.017067",
     "status": "completed"
    },
    "tags": []
   },
   "source": [
    "Karena tidak terdapat perbedaan yang signifikan pada setiap kategorinya, maka kita dapat menghapus variabel `sensor_16` pada data kita"
   ]
  },
  {
   "cell_type": "code",
   "execution_count": 33,
   "id": "22788ec9",
   "metadata": {
    "execution": {
     "iopub.execute_input": "2022-07-27T09:51:01.105691Z",
     "iopub.status.busy": "2022-07-27T09:51:01.104920Z",
     "iopub.status.idle": "2022-07-27T09:51:01.110559Z",
     "shell.execute_reply": "2022-07-27T09:51:01.109770Z"
    },
    "papermill": {
     "duration": 0.038658,
     "end_time": "2022-07-27T09:51:01.113128",
     "exception": false,
     "start_time": "2022-07-27T09:51:01.074470",
     "status": "completed"
    },
    "tags": []
   },
   "outputs": [],
   "source": [
    "data_x = data_x[data_x.columns[~data_x.columns.isin([\"sensor_16=0.03\"])]]"
   ]
  },
  {
   "cell_type": "code",
   "execution_count": 34,
   "id": "129608df",
   "metadata": {},
   "outputs": [
    {
     "data": {
      "text/html": [
       "<div>\n",
       "<style scoped>\n",
       "    .dataframe tbody tr th:only-of-type {\n",
       "        vertical-align: middle;\n",
       "    }\n",
       "\n",
       "    .dataframe tbody tr th {\n",
       "        vertical-align: top;\n",
       "    }\n",
       "\n",
       "    .dataframe thead th {\n",
       "        text-align: right;\n",
       "    }\n",
       "</style>\n",
       "<table border=\"1\" class=\"dataframe\">\n",
       "  <thead>\n",
       "    <tr style=\"text-align: right;\">\n",
       "      <th></th>\n",
       "      <th>cycle</th>\n",
       "      <th>status</th>\n",
       "      <th>operational_setting_1</th>\n",
       "      <th>operational_setting_2</th>\n",
       "      <th>sensor_01</th>\n",
       "      <th>sensor_08</th>\n",
       "      <th>sensor_09</th>\n",
       "      <th>sensor_10</th>\n",
       "      <th>operational_setting_3=100.0</th>\n",
       "    </tr>\n",
       "    <tr>\n",
       "      <th>machine_id</th>\n",
       "      <th></th>\n",
       "      <th></th>\n",
       "      <th></th>\n",
       "      <th></th>\n",
       "      <th></th>\n",
       "      <th></th>\n",
       "      <th></th>\n",
       "      <th></th>\n",
       "      <th></th>\n",
       "    </tr>\n",
       "  </thead>\n",
       "  <tbody>\n",
       "    <tr>\n",
       "      <th>1</th>\n",
       "      <td>149</td>\n",
       "      <td>1</td>\n",
       "      <td>42.0017</td>\n",
       "      <td>0.8414</td>\n",
       "      <td>445.00</td>\n",
       "      <td>2211.38</td>\n",
       "      <td>8307.72</td>\n",
       "      <td>1.02</td>\n",
       "      <td>1.0</td>\n",
       "    </tr>\n",
       "    <tr>\n",
       "      <th>2</th>\n",
       "      <td>269</td>\n",
       "      <td>0</td>\n",
       "      <td>42.0047</td>\n",
       "      <td>0.8411</td>\n",
       "      <td>445.00</td>\n",
       "      <td>2212.32</td>\n",
       "      <td>8358.80</td>\n",
       "      <td>1.02</td>\n",
       "      <td>1.0</td>\n",
       "    </tr>\n",
       "    <tr>\n",
       "      <th>3</th>\n",
       "      <td>206</td>\n",
       "      <td>0</td>\n",
       "      <td>42.0073</td>\n",
       "      <td>0.8400</td>\n",
       "      <td>445.00</td>\n",
       "      <td>2211.81</td>\n",
       "      <td>8329.26</td>\n",
       "      <td>1.02</td>\n",
       "      <td>1.0</td>\n",
       "    </tr>\n",
       "    <tr>\n",
       "      <th>4</th>\n",
       "      <td>235</td>\n",
       "      <td>0</td>\n",
       "      <td>0.0030</td>\n",
       "      <td>0.0007</td>\n",
       "      <td>518.67</td>\n",
       "      <td>2388.17</td>\n",
       "      <td>9150.14</td>\n",
       "      <td>1.30</td>\n",
       "      <td>1.0</td>\n",
       "    </tr>\n",
       "    <tr>\n",
       "      <th>5</th>\n",
       "      <td>154</td>\n",
       "      <td>1</td>\n",
       "      <td>42.0049</td>\n",
       "      <td>0.8408</td>\n",
       "      <td>445.00</td>\n",
       "      <td>2212.99</td>\n",
       "      <td>8397.52</td>\n",
       "      <td>1.02</td>\n",
       "      <td>1.0</td>\n",
       "    </tr>\n",
       "    <tr>\n",
       "      <th>...</th>\n",
       "      <td>...</td>\n",
       "      <td>...</td>\n",
       "      <td>...</td>\n",
       "      <td>...</td>\n",
       "      <td>...</td>\n",
       "      <td>...</td>\n",
       "      <td>...</td>\n",
       "      <td>...</td>\n",
       "      <td>...</td>\n",
       "    </tr>\n",
       "    <tr>\n",
       "      <th>256</th>\n",
       "      <td>163</td>\n",
       "      <td>1</td>\n",
       "      <td>0.0019</td>\n",
       "      <td>0.0003</td>\n",
       "      <td>518.67</td>\n",
       "      <td>2388.32</td>\n",
       "      <td>9064.79</td>\n",
       "      <td>1.30</td>\n",
       "      <td>1.0</td>\n",
       "    </tr>\n",
       "    <tr>\n",
       "      <th>257</th>\n",
       "      <td>309</td>\n",
       "      <td>0</td>\n",
       "      <td>42.0077</td>\n",
       "      <td>0.8411</td>\n",
       "      <td>445.00</td>\n",
       "      <td>2213.35</td>\n",
       "      <td>8421.85</td>\n",
       "      <td>1.03</td>\n",
       "      <td>1.0</td>\n",
       "    </tr>\n",
       "    <tr>\n",
       "      <th>258</th>\n",
       "      <td>143</td>\n",
       "      <td>1</td>\n",
       "      <td>9.9984</td>\n",
       "      <td>0.2500</td>\n",
       "      <td>489.05</td>\n",
       "      <td>2319.17</td>\n",
       "      <td>8783.40</td>\n",
       "      <td>1.26</td>\n",
       "      <td>1.0</td>\n",
       "    </tr>\n",
       "    <tr>\n",
       "      <th>259</th>\n",
       "      <td>205</td>\n",
       "      <td>0</td>\n",
       "      <td>41.9989</td>\n",
       "      <td>0.8405</td>\n",
       "      <td>445.00</td>\n",
       "      <td>2211.63</td>\n",
       "      <td>8319.68</td>\n",
       "      <td>1.02</td>\n",
       "      <td>1.0</td>\n",
       "    </tr>\n",
       "    <tr>\n",
       "      <th>260</th>\n",
       "      <td>316</td>\n",
       "      <td>0</td>\n",
       "      <td>35.0036</td>\n",
       "      <td>0.8400</td>\n",
       "      <td>449.44</td>\n",
       "      <td>2225.12</td>\n",
       "      <td>8478.44</td>\n",
       "      <td>1.02</td>\n",
       "      <td>1.0</td>\n",
       "    </tr>\n",
       "  </tbody>\n",
       "</table>\n",
       "<p>260 rows × 9 columns</p>\n",
       "</div>"
      ],
      "text/plain": [
       "            cycle  status  operational_setting_1  operational_setting_2  \\\n",
       "machine_id                                                                \n",
       "1             149       1                42.0017                 0.8414   \n",
       "2             269       0                42.0047                 0.8411   \n",
       "3             206       0                42.0073                 0.8400   \n",
       "4             235       0                 0.0030                 0.0007   \n",
       "5             154       1                42.0049                 0.8408   \n",
       "...           ...     ...                    ...                    ...   \n",
       "256           163       1                 0.0019                 0.0003   \n",
       "257           309       0                42.0077                 0.8411   \n",
       "258           143       1                 9.9984                 0.2500   \n",
       "259           205       0                41.9989                 0.8405   \n",
       "260           316       0                35.0036                 0.8400   \n",
       "\n",
       "            sensor_01  sensor_08  sensor_09  sensor_10  \\\n",
       "machine_id                                               \n",
       "1              445.00    2211.38    8307.72       1.02   \n",
       "2              445.00    2212.32    8358.80       1.02   \n",
       "3              445.00    2211.81    8329.26       1.02   \n",
       "4              518.67    2388.17    9150.14       1.30   \n",
       "5              445.00    2212.99    8397.52       1.02   \n",
       "...               ...        ...        ...        ...   \n",
       "256            518.67    2388.32    9064.79       1.30   \n",
       "257            445.00    2213.35    8421.85       1.03   \n",
       "258            489.05    2319.17    8783.40       1.26   \n",
       "259            445.00    2211.63    8319.68       1.02   \n",
       "260            449.44    2225.12    8478.44       1.02   \n",
       "\n",
       "            operational_setting_3=100.0  \n",
       "machine_id                               \n",
       "1                                   1.0  \n",
       "2                                   1.0  \n",
       "3                                   1.0  \n",
       "4                                   1.0  \n",
       "5                                   1.0  \n",
       "...                                 ...  \n",
       "256                                 1.0  \n",
       "257                                 1.0  \n",
       "258                                 1.0  \n",
       "259                                 1.0  \n",
       "260                                 1.0  \n",
       "\n",
       "[260 rows x 9 columns]"
      ]
     },
     "execution_count": 34,
     "metadata": {},
     "output_type": "execute_result"
    }
   ],
   "source": [
    "data_x"
   ]
  },
  {
   "cell_type": "markdown",
   "id": "d748c712",
   "metadata": {
    "papermill": {
     "duration": 0.029966,
     "end_time": "2022-07-27T09:51:01.172534",
     "exception": false,
     "start_time": "2022-07-27T09:51:01.142568",
     "status": "completed"
    },
    "tags": []
   },
   "source": [
    "# Cox Propotional Hazard"
   ]
  },
  {
   "cell_type": "markdown",
   "id": "bb9cd7e9",
   "metadata": {
    "papermill": {
     "duration": 0.029331,
     "end_time": "2022-07-27T09:51:01.230849",
     "exception": false,
     "start_time": "2022-07-27T09:51:01.201518",
     "status": "completed"
    },
    "tags": []
   },
   "source": [
    "Model **Cox Propotional Hazard (CoxPH)** dapat digunakan untuk melakukan pemodelan terdahap Data Survival. Secara matematis, model ini dapat dituliskan sebagai berikut:\n",
    "$$\n",
    "h(t) = h_{0}(t) e^{\\beta_{1}x_{1} + \\beta_{2}x_{2} + ... + \\beta_{n}x_{n}}\n",
    "$$\n",
    "\n",
    "Model CoxPH ini adalah model semiparametric yang akan memprediksi nilai hazard rate yang terdiri dari komponen:\n",
    "\n",
    "- Non-parametrik $h_{0}(t)$ (*baseline hazard*) : Karakterisasi mengenai bagaimana fungsi hazard berubah seiring berjalannya waktu. Baseline hazard ini dapat diinterpretasikan juga sebagai intercept pada masalah regresi\n",
    "- Parametrik $e^{\\beta_{1}x_{1} + \\beta_{2}x_{2} + ... + \\beta_{n}x_{n}}$ : Karakterisasi mengenai bagaimana fungsi hazard berubah berdasarkan kondisi kovariat (variabel yang terlibat dalam model)\n",
    "\n",
    "Untuk memperoleh fungsi survival berdasarkan model di atas, kita dapat memanfaatkan hubungan berikut:\n",
    "$$\n",
    "S(t) = e^{-\\int{h(t)}} dt\n",
    "$$"
   ]
  },
  {
   "cell_type": "markdown",
   "id": "5794a399",
   "metadata": {
    "papermill": {
     "duration": 0.029349,
     "end_time": "2022-07-27T09:51:01.288900",
     "exception": false,
     "start_time": "2022-07-27T09:51:01.259551",
     "status": "completed"
    },
    "tags": []
   },
   "source": [
    "Kita dapat memanfaatkan fungsi `CoxPHSurvivalAnalysis` dari package `sksurv` untuk membangun model CoxPH. Pada kasus ini, kita gunakan parameter `alpha = 1e-4` sebagai untuk regularisasi. Dokumentasi lebih lengkap untuk penggunaan fungsi ini dapat dilihat pada [dokumentasi berikut](https://scikit-survival.readthedocs.io/en/stable/api/generated/sksurv.linear_model.CoxPHSurvivalAnalysis.html)"
   ]
  },
  {
   "cell_type": "code",
   "execution_count": 35,
   "id": "2e75237e",
   "metadata": {},
   "outputs": [
    {
     "data": {
      "text/html": [
       "<div>\n",
       "<style scoped>\n",
       "    .dataframe tbody tr th:only-of-type {\n",
       "        vertical-align: middle;\n",
       "    }\n",
       "\n",
       "    .dataframe tbody tr th {\n",
       "        vertical-align: top;\n",
       "    }\n",
       "\n",
       "    .dataframe thead th {\n",
       "        text-align: right;\n",
       "    }\n",
       "</style>\n",
       "<table border=\"1\" class=\"dataframe\">\n",
       "  <thead>\n",
       "    <tr style=\"text-align: right;\">\n",
       "      <th></th>\n",
       "      <th>cycle</th>\n",
       "      <th>status</th>\n",
       "      <th>operational_setting_1</th>\n",
       "      <th>sensor_08</th>\n",
       "      <th>sensor_09</th>\n",
       "      <th>sensor_10</th>\n",
       "      <th>operational_setting_3=100.0</th>\n",
       "    </tr>\n",
       "  </thead>\n",
       "  <tbody>\n",
       "    <tr>\n",
       "      <th>0</th>\n",
       "      <td>-1.237154</td>\n",
       "      <td>0.954864</td>\n",
       "      <td>0.850721</td>\n",
       "      <td>-0.285764</td>\n",
       "      <td>-0.765296</td>\n",
       "      <td>-0.648476</td>\n",
       "      <td>0.264497</td>\n",
       "    </tr>\n",
       "    <tr>\n",
       "      <th>1</th>\n",
       "      <td>1.332871</td>\n",
       "      <td>-1.047270</td>\n",
       "      <td>0.850902</td>\n",
       "      <td>-0.277113</td>\n",
       "      <td>-0.593738</td>\n",
       "      <td>-0.648476</td>\n",
       "      <td>0.264497</td>\n",
       "    </tr>\n",
       "    <tr>\n",
       "      <th>2</th>\n",
       "      <td>-0.016392</td>\n",
       "      <td>-1.047270</td>\n",
       "      <td>0.851060</td>\n",
       "      <td>-0.281807</td>\n",
       "      <td>-0.692952</td>\n",
       "      <td>-0.648476</td>\n",
       "      <td>0.264497</td>\n",
       "    </tr>\n",
       "    <tr>\n",
       "      <th>3</th>\n",
       "      <td>0.604697</td>\n",
       "      <td>-1.047270</td>\n",
       "      <td>-1.689643</td>\n",
       "      <td>1.341305</td>\n",
       "      <td>2.064065</td>\n",
       "      <td>1.621189</td>\n",
       "      <td>0.264497</td>\n",
       "    </tr>\n",
       "    <tr>\n",
       "      <th>4</th>\n",
       "      <td>-1.130070</td>\n",
       "      <td>0.954864</td>\n",
       "      <td>0.850915</td>\n",
       "      <td>-0.270947</td>\n",
       "      <td>-0.463693</td>\n",
       "      <td>-0.648476</td>\n",
       "      <td>0.264497</td>\n",
       "    </tr>\n",
       "    <tr>\n",
       "      <th>...</th>\n",
       "      <td>...</td>\n",
       "      <td>...</td>\n",
       "      <td>...</td>\n",
       "      <td>...</td>\n",
       "      <td>...</td>\n",
       "      <td>...</td>\n",
       "      <td>...</td>\n",
       "    </tr>\n",
       "    <tr>\n",
       "      <th>255</th>\n",
       "      <td>-0.937318</td>\n",
       "      <td>0.954864</td>\n",
       "      <td>-1.689710</td>\n",
       "      <td>1.342686</td>\n",
       "      <td>1.777408</td>\n",
       "      <td>1.621189</td>\n",
       "      <td>0.264497</td>\n",
       "    </tr>\n",
       "    <tr>\n",
       "      <th>256</th>\n",
       "      <td>2.189546</td>\n",
       "      <td>-1.047270</td>\n",
       "      <td>0.851084</td>\n",
       "      <td>-0.267634</td>\n",
       "      <td>-0.381978</td>\n",
       "      <td>-0.567416</td>\n",
       "      <td>0.264497</td>\n",
       "    </tr>\n",
       "    <tr>\n",
       "      <th>257</th>\n",
       "      <td>-1.365655</td>\n",
       "      <td>0.954864</td>\n",
       "      <td>-1.085054</td>\n",
       "      <td>0.706270</td>\n",
       "      <td>0.832328</td>\n",
       "      <td>1.296951</td>\n",
       "      <td>0.264497</td>\n",
       "    </tr>\n",
       "    <tr>\n",
       "      <th>258</th>\n",
       "      <td>-0.037809</td>\n",
       "      <td>-1.047270</td>\n",
       "      <td>0.850552</td>\n",
       "      <td>-0.283463</td>\n",
       "      <td>-0.725127</td>\n",
       "      <td>-0.648476</td>\n",
       "      <td>0.264497</td>\n",
       "    </tr>\n",
       "    <tr>\n",
       "      <th>259</th>\n",
       "      <td>2.339464</td>\n",
       "      <td>-1.047270</td>\n",
       "      <td>0.427429</td>\n",
       "      <td>-0.159309</td>\n",
       "      <td>-0.191914</td>\n",
       "      <td>-0.648476</td>\n",
       "      <td>0.264497</td>\n",
       "    </tr>\n",
       "  </tbody>\n",
       "</table>\n",
       "<p>260 rows × 7 columns</p>\n",
       "</div>"
      ],
      "text/plain": [
       "        cycle    status  operational_setting_1  sensor_08  sensor_09  \\\n",
       "0   -1.237154  0.954864               0.850721  -0.285764  -0.765296   \n",
       "1    1.332871 -1.047270               0.850902  -0.277113  -0.593738   \n",
       "2   -0.016392 -1.047270               0.851060  -0.281807  -0.692952   \n",
       "3    0.604697 -1.047270              -1.689643   1.341305   2.064065   \n",
       "4   -1.130070  0.954864               0.850915  -0.270947  -0.463693   \n",
       "..        ...       ...                    ...        ...        ...   \n",
       "255 -0.937318  0.954864              -1.689710   1.342686   1.777408   \n",
       "256  2.189546 -1.047270               0.851084  -0.267634  -0.381978   \n",
       "257 -1.365655  0.954864              -1.085054   0.706270   0.832328   \n",
       "258 -0.037809 -1.047270               0.850552  -0.283463  -0.725127   \n",
       "259  2.339464 -1.047270               0.427429  -0.159309  -0.191914   \n",
       "\n",
       "     sensor_10  operational_setting_3=100.0  \n",
       "0    -0.648476                     0.264497  \n",
       "1    -0.648476                     0.264497  \n",
       "2    -0.648476                     0.264497  \n",
       "3     1.621189                     0.264497  \n",
       "4    -0.648476                     0.264497  \n",
       "..         ...                          ...  \n",
       "255   1.621189                     0.264497  \n",
       "256  -0.567416                     0.264497  \n",
       "257   1.296951                     0.264497  \n",
       "258  -0.648476                     0.264497  \n",
       "259  -0.648476                     0.264497  \n",
       "\n",
       "[260 rows x 7 columns]"
      ]
     },
     "execution_count": 35,
     "metadata": {},
     "output_type": "execute_result"
    }
   ],
   "source": [
    "import numpy as np\n",
    "from sksurv.linear_model import CoxPHSurvivalAnalysis\n",
    "from sklearn.preprocessing import StandardScaler\n",
    "\n",
    "# 1. Standardisasi data\n",
    "scaler = StandardScaler()\n",
    "data_x_scaled = scaler.fit_transform(data_x)\n",
    "data_x_scaled = pd.DataFrame(data_x_scaled, columns=data_x.columns)\n",
    "\n",
    "# 2. Cek dan hapus kolom dengan variance rendah\n",
    "variance = data_x_scaled.var()\n",
    "low_variance_features = variance[variance < 0.01].index\n",
    "data_x_cleaned = data_x_scaled.drop(columns=low_variance_features)\n",
    "\n",
    "# 3. Cek dan hapus kolom yang highly correlated\n",
    "correlation_matrix = data_x_cleaned.corr().abs()\n",
    "upper = correlation_matrix.where(np.triu(np.ones(correlation_matrix.shape), k=1).astype(bool))\n",
    "high_corr_features = [column for column in upper.columns if any(upper[column] > 0.95)]\n",
    "data_x_final = data_x_cleaned.drop(columns=high_corr_features)\n",
    "data_x_final\n",
    "# # 4. Tambahkan ridge penalty\n",
    "# estimator = CoxPHSurvivalAnalysis(alpha=0.1, verbose=10)  # alpha adalah parameter regularisasi\n",
    "\n",
    "# # 5. Fit model\n",
    "# try:\n",
    "#     estimator.fit(data_x_final, data_y)\n",
    "    \n",
    "#     # Print coefficients\n",
    "#     print(\"\\nModel coefficients:\")\n",
    "#     for feature, coef in zip(data_x_final.columns, estimator.coef_):\n",
    "#         print(f\"{feature}: {coef:.4f}\")\n",
    "        \n",
    "# except Exception as e:\n",
    "#     print(f\"Error: {str(e)}\")\n",
    "    \n",
    "#     # Print info tambahan untuk debugging\n",
    "#     print(\"\\nShape data_x:\", data_x_final.shape)\n",
    "#     print(\"Shape data_y:\", data_y.shape)\n",
    "#     print(\"\\nSample data_x:\\n\", data_x_final.head())\n",
    "#     print(\"\\nSample data_y:\\n\", data_y[:5])"
   ]
  },
  {
   "cell_type": "code",
   "execution_count": 36,
   "id": "0502a54e",
   "metadata": {},
   "outputs": [
    {
     "data": {
      "text/plain": [
       "array([( True, 149.), (False, 269.), (False, 206.), (False, 235.),\n",
       "       ( True, 154.), ( True, 175.), ( True, 174.), ( True, 151.),\n",
       "       ( True, 199.), ( True, 184.), (False, 271.), (False, 249.),\n",
       "       (False, 227.), ( True, 193.), (False, 209.), ( True, 154.),\n",
       "       ( True, 180.), (False, 209.), ( True, 163.), ( True, 154.),\n",
       "       ( True, 189.), ( True, 192.), (False, 211.), ( True, 191.),\n",
       "       (False, 205.), ( True, 187.), ( True, 176.), ( True, 200.),\n",
       "       ( True, 151.), ( True, 166.), (False, 343.), (False, 281.),\n",
       "       ( True, 195.), (False, 205.), ( True, 196.), (False, 203.),\n",
       "       (False, 210.), ( True, 177.), (False, 214.), ( True, 193.),\n",
       "       (False, 262.), (False, 221.), (False, 211.), (False, 205.),\n",
       "       ( True, 151.), (False, 201.), (False, 246.), (False, 239.),\n",
       "       ( True, 168.), (False, 222.), (False, 293.), ( True, 174.),\n",
       "       ( True, 148.), ( True, 199.), ( True, 159.), ( True, 163.),\n",
       "       ( True, 140.), ( True, 162.), ( True, 194.), ( True, 177.),\n",
       "       (False, 218.), ( True, 184.), ( True, 168.), (False, 282.),\n",
       "       (False, 206.), ( True, 170.), ( True, 145.), ( True, 185.),\n",
       "       ( True, 136.), ( True, 156.), ( True, 194.), ( True, 196.),\n",
       "       (False, 239.), ( True, 158.), (False, 231.), (False, 244.),\n",
       "       ( True, 185.), ( True, 161.), ( True, 181.), (False, 221.),\n",
       "       (False, 288.), ( True, 200.), ( True, 170.), (False, 259.),\n",
       "       (False, 347.), ( True, 190.), ( True, 170.), (False, 365.),\n",
       "       ( True, 188.), ( True, 188.), (False, 245.), ( True, 188.),\n",
       "       ( True, 189.), (False, 306.), ( True, 198.), (False, 208.),\n",
       "       ( True, 145.), ( True, 167.), (False, 202.), (False, 212.),\n",
       "       (False, 211.), ( True, 164.), (False, 280.), (False, 228.),\n",
       "       (False, 303.), (False, 272.), ( True, 145.), ( True, 156.),\n",
       "       (False, 220.), (False, 221.), ( True, 200.), (False, 378.),\n",
       "       (False, 232.), (False, 203.), (False, 206.), (False, 207.),\n",
       "       ( True, 177.), (False, 344.), ( True, 174.), ( True, 129.),\n",
       "       (False, 210.), ( True, 185.), (False, 226.), (False, 267.),\n",
       "       ( True, 168.), ( True, 199.), (False, 256.), (False, 303.),\n",
       "       (False, 202.), ( True, 182.), (False, 280.), ( True, 183.),\n",
       "       ( True, 159.), (False, 247.), (False, 294.), ( True, 160.),\n",
       "       ( True, 148.), ( True, 200.), ( True, 194.), (False, 214.),\n",
       "       ( True, 163.), (False, 208.), ( True, 166.), (False, 224.),\n",
       "       (False, 251.), (False, 263.), (False, 207.), (False, 279.),\n",
       "       (False, 289.), (False, 222.), ( True, 177.), ( True, 184.),\n",
       "       (False, 292.), ( True, 193.), (False, 226.), (False, 299.),\n",
       "       (False, 237.), (False, 308.), (False, 241.), (False, 212.),\n",
       "       (False, 224.), ( True, 194.), (False, 203.), (False, 249.),\n",
       "       ( True, 165.), (False, 204.), (False, 232.), (False, 217.),\n",
       "       ( True, 185.), ( True, 179.), (False, 258.), ( True, 174.),\n",
       "       ( True, 151.), ( True, 193.), (False, 202.), ( True, 164.),\n",
       "       ( True, 181.), ( True, 148.), ( True, 181.), (False, 297.),\n",
       "       (False, 255.), ( True, 200.), (False, 207.), ( True, 171.),\n",
       "       ( True, 162.), ( True, 194.), ( True, 168.), ( True, 148.),\n",
       "       (False, 209.), (False, 257.), (False, 219.), ( True, 133.),\n",
       "       ( True, 172.), ( True, 148.), ( True, 190.), (False, 239.),\n",
       "       ( True, 154.), (False, 205.), (False, 219.), (False, 227.),\n",
       "       ( True, 191.), ( True, 197.), (False, 269.), (False, 237.),\n",
       "       ( True, 198.), (False, 221.), ( True, 184.), ( True, 150.),\n",
       "       (False, 201.), ( True, 184.), (False, 214.), ( True, 149.),\n",
       "       ( True, 196.), ( True, 146.), (False, 226.), (False, 229.),\n",
       "       ( True, 162.), (False, 237.), ( True, 156.), (False, 234.),\n",
       "       ( True, 178.), ( True, 195.), (False, 218.), ( True, 174.),\n",
       "       ( True, 156.), ( True, 178.), ( True, 184.), (False, 262.),\n",
       "       ( True, 176.), ( True, 186.), ( True, 144.), (False, 242.),\n",
       "       ( True, 190.), ( True, 159.), ( True, 183.), (False, 239.),\n",
       "       (False, 209.), ( True, 156.), (False, 263.), (False, 266.),\n",
       "       ( True, 183.), (False, 273.), (False, 230.), ( True, 128.),\n",
       "       (False, 253.), ( True, 194.), ( True, 197.), (False, 234.),\n",
       "       (False, 202.), ( True, 184.), (False, 266.), ( True, 135.),\n",
       "       ( True, 149.), (False, 260.), (False, 340.), ( True, 163.),\n",
       "       (False, 309.), ( True, 143.), (False, 205.), (False, 316.)],\n",
       "      dtype=[('status', '?'), ('cycle', '<f8')])"
      ]
     },
     "execution_count": 36,
     "metadata": {},
     "output_type": "execute_result"
    }
   ],
   "source": [
    "data_y"
   ]
  },
  {
   "cell_type": "markdown",
   "id": "71f36f15",
   "metadata": {
    "papermill": {
     "duration": 0.028377,
     "end_time": "2022-07-27T09:51:01.646902",
     "exception": false,
     "start_time": "2022-07-27T09:51:01.618525",
     "status": "completed"
    },
    "tags": []
   },
   "source": [
    "Setelah melakukan fitting model, mari kita lihat koefisien dari model dengan menggunakan attribute `.coef_`"
   ]
  },
  {
   "cell_type": "markdown",
   "id": "1ed01cda",
   "metadata": {
    "papermill": {
     "duration": 0.029957,
     "end_time": "2022-07-27T09:51:01.775845",
     "exception": false,
     "start_time": "2022-07-27T09:51:01.745888",
     "status": "completed"
    },
    "tags": []
   },
   "source": [
    "**Interpretation:**\n",
    "\n",
    "- Setiap peningkatan satu satuan pada `sensor_04` akan meningkatkan tingkat kerusakan (hazard rate) sebesar $e^{0.02} = 1.02$ dengan asumsi tidak ada perubahan pada covariate lainnya\n",
    "- Setiap peningkatan satu satuan pada `sensor_11` akan mengurangi tingkat kerusakan (hazard rate) sebesar $e^{-1.13} = 0.32$ dengan asumsi tidak ada perubahan pada covariate lainnya\n",
    "- Dengan menggunakan `operational_setting_3` = 100 akan meningkatkan tingkat kerusakan (hazard rate) sebesar $e^{6.26} = 523.21$ dibandingkan dengan `operational_setting_3` = 60\n",
    "\n"
   ]
  },
  {
   "cell_type": "markdown",
   "id": "09740466",
   "metadata": {
    "papermill": {
     "duration": 0.030071,
     "end_time": "2022-07-27T09:51:01.835614",
     "exception": false,
     "start_time": "2022-07-27T09:51:01.805543",
     "status": "completed"
    },
    "tags": []
   },
   "source": [
    "# Model Evaluation"
   ]
  },
  {
   "cell_type": "markdown",
   "id": "fbc98ca2",
   "metadata": {
    "papermill": {
     "duration": 0.02853,
     "end_time": "2022-07-27T09:51:01.893871",
     "exception": false,
     "start_time": "2022-07-27T09:51:01.865341",
     "status": "completed"
    },
    "tags": []
   },
   "source": [
    "Salah satu metrics yang dapat digunakan untuk mengevaluasi model survival analysis adalah **C-index**. Pada masalah survival analysis, C-index merepresentasikan seberapa mampu model dapat membedakan risiko suatu observasi. Ketika nilai C-index menuju 1 maka model memiliki kemampuan untuk membedakan observasi yang memiliki risiko tinggi dan rendah sedangkan jika nilainya menuju 0.5 maka model tidak memiliki kemampuan untuk membedakan observasi yang berisiko tinggi atau rendah."
   ]
  },
  {
   "cell_type": "code",
   "execution_count": 29,
   "id": "e14be10f",
   "metadata": {
    "execution": {
     "iopub.execute_input": "2022-07-27T09:51:01.954429Z",
     "iopub.status.busy": "2022-07-27T09:51:01.953259Z",
     "iopub.status.idle": "2022-07-27T09:51:01.971173Z",
     "shell.execute_reply": "2022-07-27T09:51:01.970062Z"
    },
    "papermill": {
     "duration": 0.050794,
     "end_time": "2022-07-27T09:51:01.973869",
     "exception": false,
     "start_time": "2022-07-27T09:51:01.923075",
     "status": "completed"
    },
    "tags": []
   },
   "outputs": [
    {
     "ename": "NameError",
     "evalue": "name 'estimator' is not defined",
     "output_type": "error",
     "traceback": [
      "\u001b[1;31m---------------------------------------------------------------------------\u001b[0m",
      "\u001b[1;31mNameError\u001b[0m                                 Traceback (most recent call last)",
      "Cell \u001b[1;32mIn[29], line 4\u001b[0m\n\u001b[0;32m      1\u001b[0m \u001b[38;5;28;01mfrom\u001b[39;00m \u001b[38;5;21;01msksurv\u001b[39;00m\u001b[38;5;21;01m.\u001b[39;00m\u001b[38;5;21;01mmetrics\u001b[39;00m \u001b[38;5;28;01mimport\u001b[39;00m concordance_index_censored\n\u001b[0;32m      3\u001b[0m \u001b[38;5;66;03m# Cara 1\u001b[39;00m\n\u001b[1;32m----> 4\u001b[0m prediction \u001b[38;5;241m=\u001b[39m \u001b[43mestimator\u001b[49m\u001b[38;5;241m.\u001b[39mpredict(data_x)\n\u001b[0;32m      5\u001b[0m result \u001b[38;5;241m=\u001b[39m concordance_index_censored(turbofan_df[\u001b[38;5;124m\"\u001b[39m\u001b[38;5;124mstatus\u001b[39m\u001b[38;5;124m\"\u001b[39m], turbofan_df[\u001b[38;5;124m\"\u001b[39m\u001b[38;5;124mcycle\u001b[39m\u001b[38;5;124m\"\u001b[39m], prediction)\n\u001b[0;32m      6\u001b[0m result[\u001b[38;5;241m0\u001b[39m]\n",
      "\u001b[1;31mNameError\u001b[0m: name 'estimator' is not defined"
     ]
    }
   ],
   "source": [
    "from sksurv.metrics import concordance_index_censored\n",
    "\n",
    "# Cara 1\n",
    "prediction = estimator.predict(data_x)\n",
    "result = concordance_index_censored(turbofan_df[\"status\"], turbofan_df[\"cycle\"], prediction)\n",
    "result[0]"
   ]
  },
  {
   "cell_type": "code",
   "execution_count": null,
   "id": "eef2796f",
   "metadata": {
    "execution": {
     "iopub.execute_input": "2022-07-27T09:51:02.034682Z",
     "iopub.status.busy": "2022-07-27T09:51:02.034154Z",
     "iopub.status.idle": "2022-07-27T09:51:02.052458Z",
     "shell.execute_reply": "2022-07-27T09:51:02.051655Z"
    },
    "papermill": {
     "duration": 0.050945,
     "end_time": "2022-07-27T09:51:02.054738",
     "exception": false,
     "start_time": "2022-07-27T09:51:02.003793",
     "status": "completed"
    },
    "tags": []
   },
   "outputs": [
    {
     "data": {
      "text/plain": [
       "0.663189615206305"
      ]
     },
     "execution_count": 39,
     "metadata": {},
     "output_type": "execute_result"
    }
   ],
   "source": [
    "# Cara 2\n",
    "estimator.score(data_x, data_y)"
   ]
  }
 ],
 "metadata": {
  "kernelspec": {
   "display_name": "Python 3",
   "language": "python",
   "name": "python3"
  },
  "language_info": {
   "codemirror_mode": {
    "name": "ipython",
    "version": 3
   },
   "file_extension": ".py",
   "mimetype": "text/x-python",
   "name": "python",
   "nbconvert_exporter": "python",
   "pygments_lexer": "ipython3",
   "version": "3.12.2"
  },
  "papermill": {
   "default_parameters": {},
   "duration": 38.088943,
   "end_time": "2022-07-27T09:51:03.008222",
   "environment_variables": {},
   "exception": null,
   "input_path": "__notebook__.ipynb",
   "output_path": "__notebook__.ipynb",
   "parameters": {},
   "start_time": "2022-07-27T09:50:24.919279",
   "version": "2.3.4"
  }
 },
 "nbformat": 4,
 "nbformat_minor": 5
}
